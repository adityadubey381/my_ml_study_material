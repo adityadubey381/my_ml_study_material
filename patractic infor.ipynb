{
 "cells": [
  {
   "cell_type": "code",
   "execution_count": 2,
   "id": "5c17371f-a9a2-49cb-9c7e-6364d799e50e",
   "metadata": {},
   "outputs": [
    {
     "name": "stdout",
     "output_type": "stream",
     "text": [
      "Collecting mysql-connector-pythonNote: you may need to restart the kernel to use updated packages.\n",
      "\n",
      "  Downloading mysql_connector_python-9.1.0-cp311-cp311-win_amd64.whl.metadata (6.2 kB)\n",
      "Requirement already satisfied: pandas in c:\\users\\aditya kumar dubey\\anaconda3\\lib\\site-packages (2.1.4)\n",
      "Requirement already satisfied: numpy<2,>=1.23.2 in c:\\users\\aditya kumar dubey\\anaconda3\\lib\\site-packages (from pandas) (1.26.4)\n",
      "Requirement already satisfied: python-dateutil>=2.8.2 in c:\\users\\aditya kumar dubey\\anaconda3\\lib\\site-packages (from pandas) (2.8.2)\n",
      "Requirement already satisfied: pytz>=2020.1 in c:\\users\\aditya kumar dubey\\anaconda3\\lib\\site-packages (from pandas) (2023.3.post1)\n",
      "Requirement already satisfied: tzdata>=2022.1 in c:\\users\\aditya kumar dubey\\anaconda3\\lib\\site-packages (from pandas) (2023.3)\n",
      "Requirement already satisfied: six>=1.5 in c:\\users\\aditya kumar dubey\\anaconda3\\lib\\site-packages (from python-dateutil>=2.8.2->pandas) (1.16.0)\n",
      "Downloading mysql_connector_python-9.1.0-cp311-cp311-win_amd64.whl (16.1 MB)\n",
      "   ---------------------------------------- 0.0/16.1 MB ? eta -:--:--\n",
      "   ---------------------------------------- 0.0/16.1 MB ? eta -:--:--\n",
      "   ---------------------------------------- 0.0/16.1 MB ? eta -:--:--\n",
      "   ---------------------------------------- 0.0/16.1 MB ? eta -:--:--\n",
      "   ---------------------------------------- 0.0/16.1 MB ? eta -:--:--\n",
      "   ---------------------------------------- 0.0/16.1 MB ? eta -:--:--\n",
      "   ---------------------------------------- 0.1/16.1 MB 3.2 MB/s eta 0:00:05\n",
      "    --------------------------------------- 0.3/16.1 MB 3.4 MB/s eta 0:00:05\n",
      "   -- ------------------------------------- 0.9/16.1 MB 7.0 MB/s eta 0:00:03\n",
      "   ---- ----------------------------------- 2.0/16.1 MB 11.5 MB/s eta 0:00:02\n",
      "   -------- ------------------------------- 3.3/16.1 MB 14.9 MB/s eta 0:00:01\n",
      "   ---------- ----------------------------- 4.4/16.1 MB 16.5 MB/s eta 0:00:01\n",
      "   ----------- ---------------------------- 4.8/16.1 MB 15.2 MB/s eta 0:00:01\n",
      "   -------------- ------------------------- 5.9/16.1 MB 16.4 MB/s eta 0:00:01\n",
      "   ---------------- ----------------------- 6.7/16.1 MB 16.5 MB/s eta 0:00:01\n",
      "   ----------------- ---------------------- 7.2/16.1 MB 15.9 MB/s eta 0:00:01\n",
      "   ------------------ --------------------- 7.6/16.1 MB 15.1 MB/s eta 0:00:01\n",
      "   ------------------- -------------------- 7.8/16.1 MB 14.2 MB/s eta 0:00:01\n",
      "   ------------------- -------------------- 8.0/16.1 MB 13.5 MB/s eta 0:00:01\n",
      "   -------------------- ------------------- 8.3/16.1 MB 13.0 MB/s eta 0:00:01\n",
      "   --------------------- ------------------ 8.6/16.1 MB 12.5 MB/s eta 0:00:01\n",
      "   ---------------------- ----------------- 8.9/16.1 MB 12.3 MB/s eta 0:00:01\n",
      "   ---------------------- ----------------- 9.2/16.1 MB 11.8 MB/s eta 0:00:01\n",
      "   ----------------------- ---------------- 9.5/16.1 MB 11.6 MB/s eta 0:00:01\n",
      "   ------------------------ --------------- 9.8/16.1 MB 11.2 MB/s eta 0:00:01\n",
      "   ------------------------- -------------- 10.1/16.1 MB 10.9 MB/s eta 0:00:01\n",
      "   ------------------------- -------------- 10.4/16.1 MB 11.5 MB/s eta 0:00:01\n",
      "   -------------------------- ------------- 10.7/16.1 MB 11.5 MB/s eta 0:00:01\n",
      "   --------------------------- ------------ 11.0/16.1 MB 10.9 MB/s eta 0:00:01\n",
      "   ---------------------------- ----------- 11.3/16.1 MB 10.7 MB/s eta 0:00:01\n",
      "   ---------------------------- ----------- 11.6/16.1 MB 10.4 MB/s eta 0:00:01\n",
      "   ----------------------------- ---------- 11.9/16.1 MB 10.1 MB/s eta 0:00:01\n",
      "   ------------------------------ --------- 12.3/16.1 MB 9.6 MB/s eta 0:00:01\n",
      "   ------------------------------- -------- 12.6/16.1 MB 9.4 MB/s eta 0:00:01\n",
      "   -------------------------------- ------- 13.0/16.1 MB 9.0 MB/s eta 0:00:01\n",
      "   -------------------------------- ------- 13.2/16.1 MB 8.7 MB/s eta 0:00:01\n",
      "   --------------------------------- ------ 13.4/16.1 MB 8.5 MB/s eta 0:00:01\n",
      "   ---------------------------------- ----- 13.7/16.1 MB 8.3 MB/s eta 0:00:01\n",
      "   ---------------------------------- ----- 14.0/16.1 MB 8.1 MB/s eta 0:00:01\n",
      "   ----------------------------------- ---- 14.3/16.1 MB 7.8 MB/s eta 0:00:01\n",
      "   ------------------------------------ --- 14.6/16.1 MB 7.6 MB/s eta 0:00:01\n",
      "   ------------------------------------ --- 14.8/16.1 MB 7.6 MB/s eta 0:00:01\n",
      "   ------------------------------------- -- 15.1/16.1 MB 7.4 MB/s eta 0:00:01\n",
      "   -------------------------------------- - 15.3/16.1 MB 7.2 MB/s eta 0:00:01\n",
      "   -------------------------------------- - 15.5/16.1 MB 7.0 MB/s eta 0:00:01\n",
      "   ---------------------------------------  15.8/16.1 MB 6.9 MB/s eta 0:00:01\n",
      "   ---------------------------------------  16.1/16.1 MB 6.7 MB/s eta 0:00:01\n",
      "   ---------------------------------------  16.1/16.1 MB 6.7 MB/s eta 0:00:01\n",
      "   ---------------------------------------- 16.1/16.1 MB 6.4 MB/s eta 0:00:00\n",
      "Installing collected packages: mysql-connector-python\n",
      "Successfully installed mysql-connector-python-9.1.0\n"
     ]
    }
   ],
   "source": [
    "pip install mysql-connector-python pandas"
   ]
  },
  {
   "cell_type": "code",
   "execution_count": null,
   "id": "fcb026d3-7e47-46cc-bbf2-cfc2856baa7b",
   "metadata": {},
   "outputs": [],
   "source": [
    "import mysql.connector\n",
    "import pandas as pd\n",
    "\n",
    "# Establish the connection\n",
    "conn = mysql.connector.connect(\n",
    "    host='localhost',       # e.g., 'localhost'\n",
    "    user='root',       # e.g., 'root'\n",
    "    password='123456',\n",
    "    database=''\n",
    ")\n",
    "\n",
    "# Query the database\n",
    "query = \"SELECT * FROM your_table\"\n",
    "\n",
    "# Fetch data into a DataFrame\n",
    "df = pd.read_sql(query, conn)\n",
    "\n",
    "# Close the connection\n",
    "conn.close()\n",
    "\n",
    "print(df.head())\n"
   ]
  }
 ],
 "metadata": {
  "kernelspec": {
   "display_name": "Python 3 (ipykernel)",
   "language": "python",
   "name": "python3"
  },
  "language_info": {
   "codemirror_mode": {
    "name": "ipython",
    "version": 3
   },
   "file_extension": ".py",
   "mimetype": "text/x-python",
   "name": "python",
   "nbconvert_exporter": "python",
   "pygments_lexer": "ipython3",
   "version": "3.11.7"
  },
  "widgets": {
   "application/vnd.jupyter.widget-state+json": {
    "state": {},
    "version_major": 2,
    "version_minor": 0
   }
  }
 },
 "nbformat": 4,
 "nbformat_minor": 5
}
