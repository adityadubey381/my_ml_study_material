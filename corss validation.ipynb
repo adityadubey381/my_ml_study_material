{
 "cells": [
  {
   "cell_type": "markdown",
   "id": "0b8d382c-1877-48ba-9666-5a3b9704f6f1",
   "metadata": {},
   "source": [
    "# What is Cross-Validation?\n",
    "Cross-validation is a technique in machine learning used to assess how well a model generalizes to unseen data. It helps in preventing overfitting and ensures that the model performs well on new data.\n",
    "\n",
    "# Why Use Cross-Validation?\n",
    "It provides a more reliable estimate of model performance.\n",
    "\n",
    "It helps in selecting the best model or hyperparameters.\n",
    "\n",
    "It reduces the risk of overfitting.\n",
    "\n",
    "# Types of Cross-Validation:\n",
    "\n",
    "# K-Fold Cross-Validation\n",
    "\n",
    "The dataset is split into K equal parts (folds).\n",
    "\n",
    "The model is trained on K-1 folds and tested on the remaining fold.\n",
    "\n",
    "This process repeats K times, with each fold used as a test set once.\n",
    "\n",
    "The final performance is the average of all K iterations.\n",
    "\n",
    "Similar to K-Fold, but maintains the proportion of class labels in each fold.\n",
    "\n",
    "Useful for imbalanced datasets.\n",
    "\n",
    "# Leave-One-Out Cross-Validation (LOO-CV)\n",
    "\n",
    "Each data point is used as a test set once, while the remaining data is used for training.\n",
    "\n",
    "Computationally expensive but useful for small datasets.\n",
    "\n",
    "# Leave-P-Out Cross-Validation (LPO-CV)\n",
    "\n",
    "Similar to LOO-CV but uses P data points for testing instead of 1.\n",
    "\n",
    "# Time Series Cross-Validation (Rolling/Expanding Window)\n",
    "\n",
    "Used for time-series data where past data is used to predict future data.\n",
    "\n",
    "Ensures that training data comes before test data.\n",
    "\n",
    "# Which One to Use?\n",
    "\n",
    "For large datasets: K-Fold (K=5 or 10) is a good choice.\n",
    "\n",
    "For imbalanced data: Stratified K-Fold.\n",
    "\n",
    "For small datasets: Leave-One-Out.\n",
    "\n",
    "For time-series data: Rolling/Expanding window."
   ]
  },
  {
   "cell_type": "code",
   "execution_count": 4,
   "id": "b9993659-f2ac-4bf0-81ed-3e9b2671706e",
   "metadata": {},
   "outputs": [
    {
     "name": "stdout",
     "output_type": "stream",
     "text": [
      "Cross-validation scores: [1.         1.         0.93333333 0.96666667 0.96666667]\n",
      "Mean accuracy: 0.9733333333333334\n",
      "Cross-validation scores2: [0.946896   0.93157873 0.91771298 0.90265783 0.92107314]\n",
      "Mean accuracy2: 0.9239837362538136\n"
     ]
    }
   ],
   "source": [
    "from sklearn.model_selection import KFold, cross_val_score\n",
    "from sklearn.datasets import load_iris\n",
    "from sklearn.linear_model import LogisticRegression, LinearRegression\n",
    "import numpy as np\n",
    "\n",
    "# Load dataset\n",
    "iris = load_iris()\n",
    "X, y = iris.data, iris.target\n",
    "\n",
    "# Define K-Fold cross-validator (K=5)\n",
    "kf = KFold(n_splits=5, shuffle=True, random_state=42)\n",
    "\n",
    "# Define the model\n",
    "model = LogisticRegression(max_iter=200)\n",
    "model2= LinearRegression()\n",
    "\n",
    "# Perform cross-validation and get accuracy scores\n",
    "scores = cross_val_score(model, X, y, cv=kf, scoring='accuracy')\n",
    "\n",
    "scores2 = cross_val_score(model2, X, y, cv=kf, scoring='r2')\n",
    "# Print individual fold scores and average accuracy\n",
    "print(\"Cross-validation scores:\", scores)\n",
    "print(\"Mean accuracy:\", np.mean(scores))\n",
    "\n",
    "print(\"Cross-validation scores2:\", scores2)\n",
    "print(\"Mean accuracy2:\", np.mean(scores2))\n"
   ]
  },
  {
   "cell_type": "code",
   "execution_count": 6,
   "id": "3dd4bd8e-e45a-45dd-8f30-4fd822ebe01c",
   "metadata": {},
   "outputs": [],
   "source": [
    "from sklearn.svm import SVC\n",
    "from sklearn.ensemble import RandomForestClassifier\n",
    "from sklearn.datasets import load_digits\n",
    "\n",
    "digits = load_digits()"
   ]
  },
  {
   "cell_type": "code",
   "execution_count": 26,
   "id": "656fcf44-34b6-4785-9e67-bf9d478b6b12",
   "metadata": {},
   "outputs": [],
   "source": [
    "from sklearn.model_selection import train_test_split\n",
    "X_train, X_test, y_train, y_test = train_test_split(digits.data,digits.target, test_size = 0.3)"
   ]
  },
  {
   "cell_type": "code",
   "execution_count": 27,
   "id": "af4ab8c8-3ea1-4595-a17a-ee3ce33b2110",
   "metadata": {},
   "outputs": [
    {
     "name": "stderr",
     "output_type": "stream",
     "text": [
      "C:\\Users\\Aditya kumar Dubey\\anaconda3\\envs\\dubey\\Lib\\site-packages\\sklearn\\linear_model\\_logistic.py:465: ConvergenceWarning: lbfgs failed to converge (status=1):\n",
      "STOP: TOTAL NO. OF ITERATIONS REACHED LIMIT.\n",
      "\n",
      "Increase the number of iterations (max_iter) or scale the data as shown in:\n",
      "    https://scikit-learn.org/stable/modules/preprocessing.html\n",
      "Please also refer to the documentation for alternative solver options:\n",
      "    https://scikit-learn.org/stable/modules/linear_model.html#logistic-regression\n",
      "  n_iter_i = _check_optimize_result(\n"
     ]
    },
    {
     "data": {
      "text/plain": [
       "0.9537037037037037"
      ]
     },
     "execution_count": 27,
     "metadata": {},
     "output_type": "execute_result"
    }
   ],
   "source": [
    "lr = LogisticRegression()\n",
    "lr.fit(X_train,y_train)\n",
    "lr.score(X_test,y_test)"
   ]
  },
  {
   "cell_type": "code",
   "execution_count": 28,
   "id": "b797bc6a-d5c8-42fd-8bfc-ef1417db1f65",
   "metadata": {},
   "outputs": [
    {
     "data": {
      "text/plain": [
       "0.9851851851851852"
      ]
     },
     "execution_count": 28,
     "metadata": {},
     "output_type": "execute_result"
    }
   ],
   "source": [
    "svm = SVC()\n",
    "svm.fit(X_train,y_train)\n",
    "svm.score(X_test,y_test)"
   ]
  },
  {
   "cell_type": "code",
   "execution_count": 29,
   "id": "33eb7b4c-563e-40d0-84b9-3c0c2b5e1444",
   "metadata": {},
   "outputs": [
    {
     "data": {
      "text/plain": [
       "0.9740740740740741"
      ]
     },
     "execution_count": 29,
     "metadata": {},
     "output_type": "execute_result"
    }
   ],
   "source": [
    "rf = RandomForestClassifier(n_estimators=40)\n",
    "rf.fit(X_train,y_train)\n",
    "rf.score(X_test,y_test)"
   ]
  },
  {
   "cell_type": "code",
   "execution_count": 30,
   "id": "28b2533a-8ca6-4cbb-854e-990371557484",
   "metadata": {},
   "outputs": [
    {
     "data": {
      "text/plain": [
       "KFold(n_splits=3, random_state=None, shuffle=False)"
      ]
     },
     "execution_count": 30,
     "metadata": {},
     "output_type": "execute_result"
    }
   ],
   "source": [
    "from sklearn.model_selection import KFold\n",
    "kf = KFold(n_splits=3)\n",
    "kf"
   ]
  },
  {
   "cell_type": "code",
   "execution_count": 32,
   "id": "b49fa048-fced-42f8-8ce2-514962ee7efe",
   "metadata": {},
   "outputs": [
    {
     "name": "stdout",
     "output_type": "stream",
     "text": [
      "[3 4 5 6 7 8] [0 1 2]\n",
      "[0 1 2 6 7 8] [3 4 5]\n",
      "[0 1 2 3 4 5] [6 7 8]\n"
     ]
    }
   ],
   "source": [
    "for train_index, test_index in kf.split([1,2,3,4,5,6,7,8,9]):\n",
    "    print(train_index, test_index)"
   ]
  },
  {
   "cell_type": "code",
   "execution_count": 40,
   "id": "29357a7e-1ccf-4fd8-b435-ec0b676bafa9",
   "metadata": {},
   "outputs": [],
   "source": [
    "def get_score(model,X_train,X_test,y_train,y_test):\n",
    "    model.fit(X_train,y_train)\n",
    "    return model.score(X_test,y_test)"
   ]
  },
  {
   "cell_type": "code",
   "execution_count": 41,
   "id": "664f6323-716e-43ad-9dcb-50fbcf39deec",
   "metadata": {},
   "outputs": [
    {
     "name": "stderr",
     "output_type": "stream",
     "text": [
      "C:\\Users\\Aditya kumar Dubey\\anaconda3\\envs\\dubey\\Lib\\site-packages\\sklearn\\linear_model\\_logistic.py:465: ConvergenceWarning: lbfgs failed to converge (status=1):\n",
      "STOP: TOTAL NO. OF ITERATIONS REACHED LIMIT.\n",
      "\n",
      "Increase the number of iterations (max_iter) or scale the data as shown in:\n",
      "    https://scikit-learn.org/stable/modules/preprocessing.html\n",
      "Please also refer to the documentation for alternative solver options:\n",
      "    https://scikit-learn.org/stable/modules/linear_model.html#logistic-regression\n",
      "  n_iter_i = _check_optimize_result(\n"
     ]
    },
    {
     "data": {
      "text/plain": [
       "0.9537037037037037"
      ]
     },
     "execution_count": 41,
     "metadata": {},
     "output_type": "execute_result"
    }
   ],
   "source": [
    "get_score(lr,X_train,X_test,y_train,y_test)"
   ]
  },
  {
   "cell_type": "code",
   "execution_count": 42,
   "id": "8e86decb-7f35-478c-baf7-d8cc78488238",
   "metadata": {},
   "outputs": [
    {
     "data": {
      "text/plain": [
       "0.975925925925926"
      ]
     },
     "execution_count": 42,
     "metadata": {},
     "output_type": "execute_result"
    }
   ],
   "source": [
    "get_score(rf,X_train,X_test,y_train,y_test)"
   ]
  },
  {
   "cell_type": "code",
   "execution_count": 43,
   "id": "1c099633-2cea-4ec7-bb95-ce2f9671a4f9",
   "metadata": {},
   "outputs": [
    {
     "data": {
      "text/plain": [
       "0.9851851851851852"
      ]
     },
     "execution_count": 43,
     "metadata": {},
     "output_type": "execute_result"
    }
   ],
   "source": [
    "get_score(SVC(),X_train,X_test,y_train,y_test)"
   ]
  },
  {
   "cell_type": "markdown",
   "id": "88bca6fe-7123-4859-84f7-8674003ff95b",
   "metadata": {},
   "source": [
    "# StratifiedKFold"
   ]
  },
  {
   "cell_type": "code",
   "execution_count": 44,
   "id": "36e7ec60-306a-4e06-945d-eb79daf48a28",
   "metadata": {},
   "outputs": [],
   "source": [
    "from sklearn.model_selection import StratifiedKFold\n",
    "folds = StratifiedKFold(n_splits=3)"
   ]
  },
  {
   "cell_type": "code",
   "execution_count": 50,
   "id": "5194c68c-b78a-4ed7-9cc4-9b72de8785d1",
   "metadata": {},
   "outputs": [],
   "source": [
    "scores_l = []\n",
    "scores_svm = []\n",
    "scores_rf = []\n",
    "\n",
    "for train_index, test_index in kf.split(digits.data):\n",
    "    X_train, X_test, y_train, y_test = digits.data[train_index],digits.data[test_index], \\\n",
    "    digits.target[train_index],digits.target[test_index]\n",
    "\n",
    "    scores_l.append(get_score(LinearRegression(),X_train,X_test,y_train,y_test))\n",
    "    scores_rf.append(get_score(RandomForestClassifier(n_estimators=40),X_train,X_test,y_train,y_test))\n",
    "    scores_svm.append(get_score(SVC(),X_train,X_test,y_train,y_test))\n"
   ]
  },
  {
   "cell_type": "code",
   "execution_count": 51,
   "id": "1a457dd6-01ac-4f83-987a-e590913ee728",
   "metadata": {},
   "outputs": [
    {
     "name": "stdout",
     "output_type": "stream",
     "text": [
      "[0.5210503111571498, 0.5681424219493625, 0.41943985059688305]\n"
     ]
    }
   ],
   "source": [
    "print(scores_l)"
   ]
  },
  {
   "cell_type": "code",
   "execution_count": 52,
   "id": "349669b6-262d-474c-a772-0d9dc031650c",
   "metadata": {},
   "outputs": [
    {
     "name": "stdout",
     "output_type": "stream",
     "text": [
      "[0.9148580968280468, 0.9549248747913188, 0.9181969949916527]\n"
     ]
    }
   ],
   "source": [
    "print(scores_rf)"
   ]
  },
  {
   "cell_type": "code",
   "execution_count": 53,
   "id": "09214f17-1ca8-4c02-8514-b2cadb53a195",
   "metadata": {},
   "outputs": [
    {
     "name": "stdout",
     "output_type": "stream",
     "text": [
      "[0.9666110183639399, 0.9816360601001669, 0.9549248747913188]\n"
     ]
    }
   ],
   "source": [
    "print(scores_svm)"
   ]
  },
  {
   "cell_type": "code",
   "execution_count": 54,
   "id": "7605e784-3600-4578-877d-0d3e1427db51",
   "metadata": {},
   "outputs": [],
   "source": [
    "from sklearn.model_selection import cross_val_score"
   ]
  },
  {
   "cell_type": "code",
   "execution_count": 61,
   "id": "90a3181c-1b1c-42a3-8f79-e3bb2ebd501b",
   "metadata": {},
   "outputs": [
    {
     "name": "stderr",
     "output_type": "stream",
     "text": [
      "C:\\Users\\Aditya kumar Dubey\\anaconda3\\envs\\dubey\\Lib\\site-packages\\sklearn\\linear_model\\_logistic.py:465: ConvergenceWarning: lbfgs failed to converge (status=1):\n",
      "STOP: TOTAL NO. OF ITERATIONS REACHED LIMIT.\n",
      "\n",
      "Increase the number of iterations (max_iter) or scale the data as shown in:\n",
      "    https://scikit-learn.org/stable/modules/preprocessing.html\n",
      "Please also refer to the documentation for alternative solver options:\n",
      "    https://scikit-learn.org/stable/modules/linear_model.html#logistic-regression\n",
      "  n_iter_i = _check_optimize_result(\n",
      "C:\\Users\\Aditya kumar Dubey\\anaconda3\\envs\\dubey\\Lib\\site-packages\\sklearn\\linear_model\\_logistic.py:465: ConvergenceWarning: lbfgs failed to converge (status=1):\n",
      "STOP: TOTAL NO. OF ITERATIONS REACHED LIMIT.\n",
      "\n",
      "Increase the number of iterations (max_iter) or scale the data as shown in:\n",
      "    https://scikit-learn.org/stable/modules/preprocessing.html\n",
      "Please also refer to the documentation for alternative solver options:\n",
      "    https://scikit-learn.org/stable/modules/linear_model.html#logistic-regression\n",
      "  n_iter_i = _check_optimize_result(\n",
      "C:\\Users\\Aditya kumar Dubey\\anaconda3\\envs\\dubey\\Lib\\site-packages\\sklearn\\linear_model\\_logistic.py:465: ConvergenceWarning: lbfgs failed to converge (status=1):\n",
      "STOP: TOTAL NO. OF ITERATIONS REACHED LIMIT.\n",
      "\n",
      "Increase the number of iterations (max_iter) or scale the data as shown in:\n",
      "    https://scikit-learn.org/stable/modules/preprocessing.html\n",
      "Please also refer to the documentation for alternative solver options:\n",
      "    https://scikit-learn.org/stable/modules/linear_model.html#logistic-regression\n",
      "  n_iter_i = _check_optimize_result(\n"
     ]
    },
    {
     "data": {
      "text/plain": [
       "array([0.88333333, 0.97083333, 0.925     , 0.94560669, 0.9748954 ])"
      ]
     },
     "execution_count": 61,
     "metadata": {},
     "output_type": "execute_result"
    }
   ],
   "source": [
    "cross_val_score(LogisticRegression(),X_train,y_train)"
   ]
  },
  {
   "cell_type": "code",
   "execution_count": 62,
   "id": "94b873ef-5b2e-46c8-925d-ee036b437f89",
   "metadata": {},
   "outputs": [
    {
     "data": {
      "text/plain": [
       "array([0.925     , 0.975     , 0.95      , 0.94560669, 0.9790795 ])"
      ]
     },
     "execution_count": 62,
     "metadata": {},
     "output_type": "execute_result"
    }
   ],
   "source": [
    "cross_val_score(SVC(),X_train,y_train)"
   ]
  },
  {
   "cell_type": "code",
   "execution_count": 80,
   "id": "bec8474a-3c49-4c10-ba8c-a056b7c44d74",
   "metadata": {},
   "outputs": [
    {
     "data": {
      "text/plain": [
       "array([0.85416667, 0.9625    , 0.9125    , 0.93723849, 0.94142259])"
      ]
     },
     "execution_count": 80,
     "metadata": {},
     "output_type": "execute_result"
    }
   ],
   "source": [
    "cross_val_score(RandomForestClassifier(40),X_train,y_train)"
   ]
  },
  {
   "cell_type": "code",
   "execution_count": 81,
   "id": "ffdc2108-692c-43dc-add1-fe081191f51f",
   "metadata": {},
   "outputs": [
    {
     "data": {
      "text/plain": [
       "array([0.90833333, 0.86666667, 0.89415042, 0.93871866, 0.89972145])"
      ]
     },
     "execution_count": 81,
     "metadata": {},
     "output_type": "execute_result"
    }
   ],
   "source": [
    "cross_val_score(RandomForestClassifier(n_estimators=10),digits.data,digits.target)"
   ]
  },
  {
   "cell_type": "code",
   "execution_count": 82,
   "id": "c452f560-f1c6-4230-8334-44be72718b9d",
   "metadata": {},
   "outputs": [
    {
     "data": {
      "text/plain": [
       "np.float64(0.9015181059999999)"
      ]
     },
     "execution_count": 82,
     "metadata": {},
     "output_type": "execute_result"
    }
   ],
   "source": [
    "np.array([0.90833333, 0.86666667, 0.89415042, 0.93871866, 0.89972145]).mean()"
   ]
  },
  {
   "cell_type": "code",
   "execution_count": 83,
   "id": "157851c9-4146-41e6-9a4f-79a9396cc693",
   "metadata": {},
   "outputs": [
    {
     "data": {
      "text/plain": [
       "np.float64(0.9215655500000001)"
      ]
     },
     "execution_count": 83,
     "metadata": {},
     "output_type": "execute_result"
    }
   ],
   "source": [
    "np.array([0.85416667, 0.9625    , 0.9125    , 0.93723849, 0.94142259]).mean()"
   ]
  },
  {
   "cell_type": "markdown",
   "id": "c6b9f406-24b1-468d-9d23-dd7ff0dd302d",
   "metadata": {},
   "source": [
    "# 1. implement LOOCV normally\n",
    "# 2. implement LOOCV using cross_val_score\n",
    "# 3. implement Regression using LOOCV\n",
    "# 4. implement Classification LOOCV"
   ]
  },
  {
   "cell_type": "code",
   "execution_count": 84,
   "id": "fbc0af6f-eefe-4a26-9f71-4b292474cb5c",
   "metadata": {},
   "outputs": [],
   "source": [
    "from sklearn.datasets import make_blobs\n",
    "from sklearn.model_selection import LeaveOneOut\n",
    "from sklearn.ensemble import RandomForestClassifier, RandomForestRegressor\n",
    "from sklearn.metrics import accuracy_score"
   ]
  },
  {
   "cell_type": "code",
   "execution_count": 94,
   "id": "d541e1fc-b034-41d1-881f-bc46e5aff5b7",
   "metadata": {},
   "outputs": [],
   "source": [
    "# make Datasets\n",
    "X,y = make_blobs(n_samples=10,random_state=1)"
   ]
  },
  {
   "cell_type": "code",
   "execution_count": 106,
   "id": "64f35549-90b0-4a98-a481-c16bd76b07f9",
   "metadata": {},
   "outputs": [],
   "source": [
    "cv = LeaveOneOut()"
   ]
  },
  {
   "cell_type": "code",
   "execution_count": 107,
   "id": "a6ac830e-dcf2-48ca-8850-d0819c16c503",
   "metadata": {},
   "outputs": [
    {
     "data": {
      "text/plain": [
       "array([[ -7.23731039,  -9.03108652],\n",
       "       [ -8.16550136,  -7.00850439],\n",
       "       [ -7.02266844,  -7.57041289],\n",
       "       [ -8.86394306,  -5.05323981],\n",
       "       [  0.08525186,   3.64528297],\n",
       "       [ -0.79415228,   2.10495117],\n",
       "       [ -1.34052081,   4.15711949],\n",
       "       [-10.32012971,  -4.3374029 ],\n",
       "       [ -2.18773166,   3.33352125],\n",
       "       [ -8.53560457,  -6.01348926]])"
      ]
     },
     "execution_count": 107,
     "metadata": {},
     "output_type": "execute_result"
    }
   ],
   "source": [
    "X"
   ]
  },
  {
   "cell_type": "code",
   "execution_count": 108,
   "id": "6412ce42-0004-4b4d-8ba2-f803393446bf",
   "metadata": {},
   "outputs": [
    {
     "data": {
      "text/plain": [
       "array([2, 2, 2, 1, 0, 0, 0, 1, 0, 1])"
      ]
     },
     "execution_count": 108,
     "metadata": {},
     "output_type": "execute_result"
    }
   ],
   "source": [
    "y"
   ]
  },
  {
   "cell_type": "code",
   "execution_count": 109,
   "id": "06aaa433-9052-4f29-9a1d-4a4a7a9c2e03",
   "metadata": {},
   "outputs": [
    {
     "name": "stdout",
     "output_type": "stream",
     "text": [
      "[1 2 3 4 5 6 7 8 9] [0]\n",
      "[0 2 3 4 5 6 7 8 9] [1]\n",
      "[0 1 3 4 5 6 7 8 9] [2]\n",
      "[0 1 2 4 5 6 7 8 9] [3]\n",
      "[0 1 2 3 5 6 7 8 9] [4]\n",
      "[0 1 2 3 4 6 7 8 9] [5]\n",
      "[0 1 2 3 4 5 7 8 9] [6]\n",
      "[0 1 2 3 4 5 6 8 9] [7]\n",
      "[0 1 2 3 4 5 6 7 9] [8]\n",
      "[0 1 2 3 4 5 6 7 8] [9]\n"
     ]
    }
   ],
   "source": [
    "for i,j in cv.split(X):\n",
    "    print(i,j)"
   ]
  },
  {
   "cell_type": "code",
   "execution_count": 110,
   "id": "eed3569d-1a30-49d6-b279-2dff3ff094ab",
   "metadata": {},
   "outputs": [],
   "source": [
    "# implement LOOCV using cross_val_score"
   ]
  },
  {
   "cell_type": "code",
   "execution_count": 111,
   "id": "ba601540-f23e-480e-ac8b-0def20fc2e19",
   "metadata": {},
   "outputs": [],
   "source": [
    "from sklearn.model_selection import cross_val_score"
   ]
  },
  {
   "cell_type": "code",
   "execution_count": 112,
   "id": "9a603410-c2eb-4354-b2fb-db6c3ad1b98d",
   "metadata": {},
   "outputs": [],
   "source": [
    "model1 = RandomForestClassifier(random_state=1)"
   ]
  },
  {
   "cell_type": "code",
   "execution_count": 113,
   "id": "5543cd47-dd87-4e5b-ba5f-01012afa03a2",
   "metadata": {},
   "outputs": [],
   "source": [
    "scores = cross_val_score(model1,X,y,scoring='accuracy', cv=cv)"
   ]
  },
  {
   "cell_type": "code",
   "execution_count": 114,
   "id": "b49d4fdb-0728-4b49-b562-3148d04cb310",
   "metadata": {},
   "outputs": [
    {
     "data": {
      "text/plain": [
       "np.float64(0.9)"
      ]
     },
     "execution_count": 114,
     "metadata": {},
     "output_type": "execute_result"
    }
   ],
   "source": [
    "scores.mean()"
   ]
  },
  {
   "cell_type": "markdown",
   "id": "c234cf89-4a3b-46df-b8c4-a9dcf0ddf635",
   "metadata": {},
   "source": [
    "# Time Series Cross Validation"
   ]
  },
  {
   "cell_type": "code",
   "execution_count": 115,
   "id": "8e31a4ef-8c86-4d16-99ac-3b76310376db",
   "metadata": {},
   "outputs": [],
   "source": [
    "import pandas as pd\n",
    "import numpy as np"
   ]
  },
  {
   "cell_type": "code",
   "execution_count": 116,
   "id": "5ff18c62-eb22-45cd-8941-546c8dcd8930",
   "metadata": {},
   "outputs": [],
   "source": [
    "# Rollong forecast Origin\n",
    "\n",
    "def rolling_forecast_origion(train, min_train_size, horizon):\n",
    "    '''\n",
    "    Rooling forecast generator.\n",
    "    '''\n",
    "    for i in range(len(train) - min_train_size - horizon +1):\n",
    "        split_train = train[:min_train_size + 1]\n",
    "        split_val = train[min_train_size+i:min_train_size+i+horizon]\n",
    "        yield split_train, split_val"
   ]
  },
  {
   "cell_type": "code",
   "execution_count": 118,
   "id": "cc0c6862-e05b-4a24-ae54-392f7442cb42",
   "metadata": {},
   "outputs": [
    {
     "name": "stdout",
     "output_type": "stream",
     "text": [
      "full training set :[2502, 2414, 2800, 2143, 2708, 1900, 2333, 2222]\n",
      "hidden test set :[1234, 3456]\n"
     ]
    }
   ],
   "source": [
    "full_series = [2502, 2414, 2800, 2143, 2708, 1900, 2333, 2222, 1234, 3456]\n",
    "\n",
    "test = full_series[-2:]\n",
    "train = full_series[:-2]\n",
    "print('full training set :{0}'.format(train))\n",
    "print('hidden test set :{0}'.format(test))"
   ]
  },
  {
   "cell_type": "code",
   "execution_count": 124,
   "id": "59b91a50-cf51-4ef7-804d-5b1be1598d21",
   "metadata": {},
   "outputs": [
    {
     "data": {
      "text/plain": [
       "<generator object rolling_forecast_origion at 0x000001E1C3F61040>"
      ]
     },
     "execution_count": 124,
     "metadata": {},
     "output_type": "execute_result"
    }
   ],
   "source": [
    "cv_rolling = rolling_forecast_origion(train, min_train_size=4, horizon=2)\n",
    "cv_rolling"
   ]
  },
  {
   "cell_type": "code",
   "execution_count": 125,
   "id": "6e6846e4-0eac-4e1c-a649-eff5acb2c1ab",
   "metadata": {},
   "outputs": [
    {
     "name": "stdout",
     "output_type": "stream",
     "text": [
      "CV[1]\n",
      "Train:\t[2502, 2414, 2800, 2143, 2708]\n",
      "Val:\t[2708, 1900]\n",
      "------\n",
      "CV[2]\n",
      "Train:\t[2502, 2414, 2800, 2143, 2708]\n",
      "Val:\t[1900, 2333]\n",
      "------\n",
      "CV[3]\n",
      "Train:\t[2502, 2414, 2800, 2143, 2708]\n",
      "Val:\t[2333, 2222]\n",
      "------\n"
     ]
    }
   ],
   "source": [
    "i=0\n",
    "for cv_train, cv_val in cv_rolling:\n",
    "    print(f'CV[{i+1}]')\n",
    "    print(f'Train:\\t{cv_train}')\n",
    "    print(f'Val:\\t{cv_val}')\n",
    "    print('------')\n",
    "    i+=1"
   ]
  },
  {
   "cell_type": "markdown",
   "id": "305217d1-52db-4d24-829f-7d514e3cb1bc",
   "metadata": {},
   "source": [
    "# Sliding Window Cross Validation"
   ]
  },
  {
   "cell_type": "code",
   "execution_count": 127,
   "id": "f280b871-e151-4394-8aad-564fb3bba895",
   "metadata": {},
   "outputs": [],
   "source": [
    "def sliding_window(train,window_size, horizon):\n",
    "    '''\n",
    "    Sliding Window\n",
    "    '''\n",
    "    for i in range(len(train) - window_size -horizon +1):\n",
    "        split_train = train[i:window_size+i]\n",
    "        split_val = train[i+window_size:window_size+i+horizon]\n",
    "        yield split_train, split_val"
   ]
  },
  {
   "cell_type": "code",
   "execution_count": 130,
   "id": "a55bae57-0dc6-47e3-8b13-a18ece329020",
   "metadata": {},
   "outputs": [
    {
     "name": "stdout",
     "output_type": "stream",
     "text": [
      "full training set: [2502, 2414, 2800, 2143, 2708, 1900, 2333, 2222]\n",
      "\n",
      "CV[1]\n",
      "Train:\t[2502, 2414, 2800, 2143]\n",
      "Val:\t[2708]\n",
      "------\n",
      "CV[2]\n",
      "Train:\t[2414, 2800, 2143, 2708]\n",
      "Val:\t[1900]\n",
      "------\n",
      "CV[3]\n",
      "Train:\t[2800, 2143, 2708, 1900]\n",
      "Val:\t[2333]\n",
      "------\n",
      "CV[4]\n",
      "Train:\t[2143, 2708, 1900, 2333]\n",
      "Val:\t[2222]\n",
      "------\n"
     ]
    }
   ],
   "source": [
    "cv_sliding = sliding_window(train ,window_size=4, horizon=1)\n",
    "\n",
    "print('full training set: {0}\\n'.format(train))\n",
    "\n",
    "i=0\n",
    "for cv_train, cv_val in cv_sliding:\n",
    "    print(f'CV[{i+1}]')\n",
    "    print(f'Train:\\t{cv_train}')\n",
    "    print(f'Val:\\t{cv_val}')\n",
    "    print('------')\n",
    "    i+=1"
   ]
  },
  {
   "cell_type": "markdown",
   "id": "09777ef1-2e61-4520-a1f7-45dbcd44458f",
   "metadata": {},
   "source": [
    "# Cross validation example"
   ]
  },
  {
   "cell_type": "code",
   "execution_count": 131,
   "id": "88de87e2-5310-48dd-b7b3-f76b8b6ea94a",
   "metadata": {},
   "outputs": [],
   "source": [
    "def cross_validation_score(model, train, cv, metric):\n",
    "    '''\n",
    "    Claculate cross validation score\n",
    "    \n",
    "    '''\n",
    "    cv_scores = []\n",
    "    for cv_train,cv_test in cv :\n",
    "        model.fit(cv_train)\n",
    "        preds = model.predict(horizon=len(cv_test))\n",
    "        score = metric(y_true=cv_test,y_pred= preds)\n",
    "        cv_scores.append(score)\n",
    "\n",
    "    return np.array(cv_scores)\n",
    "    "
   ]
  },
  {
   "cell_type": "code",
   "execution_count": 2,
   "id": "8209110b-0b46-4c5e-a7da-7b362b0242cb",
   "metadata": {},
   "outputs": [
    {
     "ename": "ModuleNotFoundError",
     "evalue": "No module named 'forecast.baseline'",
     "output_type": "error",
     "traceback": [
      "\u001b[1;31m---------------------------------------------------------------------------\u001b[0m",
      "\u001b[1;31mModuleNotFoundError\u001b[0m                       Traceback (most recent call last)",
      "Cell \u001b[1;32mIn[2], line 1\u001b[0m\n\u001b[1;32m----> 1\u001b[0m \u001b[38;5;28;01mfrom\u001b[39;00m \u001b[38;5;21;01mforecast\u001b[39;00m\u001b[38;5;21;01m.\u001b[39;00m\u001b[38;5;21;01mbaseline\u001b[39;00m \u001b[38;5;28;01mimport\u001b[39;00m SNaive, Naivel\n\u001b[0;32m      2\u001b[0m \u001b[38;5;28;01mfrom\u001b[39;00m \u001b[38;5;21;01msklearn\u001b[39;00m\u001b[38;5;21;01m.\u001b[39;00m\u001b[38;5;21;01mmetrics\u001b[39;00m \u001b[38;5;28;01mimport\u001b[39;00m mean_absolute_error\n",
      "\u001b[1;31mModuleNotFoundError\u001b[0m: No module named 'forecast.baseline'"
     ]
    }
   ],
   "source": [
    "from forecast.baseline import SNaive, Naivel\n",
    "from sklearn.metrics import mean_absolute_error"
   ]
  },
  {
   "cell_type": "code",
   "execution_count": null,
   "id": "c57e39ca-1870-4457-90b4-3f0329b6af82",
   "metadata": {},
   "outputs": [],
   "source": []
  },
  {
   "cell_type": "code",
   "execution_count": null,
   "id": "d4e74026-c488-4cf3-a158-351a25a0c77c",
   "metadata": {},
   "outputs": [],
   "source": []
  }
 ],
 "metadata": {
  "kernelspec": {
   "display_name": "Python 3 (ipykernel)",
   "language": "python",
   "name": "python3"
  },
  "language_info": {
   "codemirror_mode": {
    "name": "ipython",
    "version": 3
   },
   "file_extension": ".py",
   "mimetype": "text/x-python",
   "name": "python",
   "nbconvert_exporter": "python",
   "pygments_lexer": "ipython3",
   "version": "3.12.7"
  },
  "widgets": {
   "application/vnd.jupyter.widget-state+json": {
    "state": {},
    "version_major": 2,
    "version_minor": 0
   }
  }
 },
 "nbformat": 4,
 "nbformat_minor": 5
}
