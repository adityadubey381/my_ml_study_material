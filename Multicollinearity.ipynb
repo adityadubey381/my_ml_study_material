{
 "cells": [
  {
   "cell_type": "code",
   "execution_count": 1,
   "id": "a9dfb93c-0432-465a-940c-d427a4a3ed7a",
   "metadata": {},
   "outputs": [],
   "source": [
    "import matplotlib.pyplot as plt\n",
    "import numpy as np\n",
    "import pandas as pd\n",
    "import seaborn as sns\n",
    "\n",
    "import statsmodels.api as sm\n",
    "\n",
    "import warnings\n",
    "\n",
    "from numpy.linalg import matrix_rank, inv\n",
    "\n",
    "from sklearn.preprocessing import StandardScaler\n",
    "from statsmodels.stats.outliers_influence import variance_inflation_factor\n",
    "\n",
    "from statsmodels.tools.tools import add_constant"
   ]
  },
  {
   "cell_type": "code",
   "execution_count": 2,
   "id": "d8ee1f79-1e12-43e5-91be-b454b219df7a",
   "metadata": {},
   "outputs": [],
   "source": [
    "%matplotlib inline\n",
    "np.set_printoptions(precision=4)\n",
    "pd.set_option('display.float_format', lambda x: '%.3f' % x)\n",
    "warnings.filterwarnings('ignore')"
   ]
  },
  {
   "cell_type": "code",
   "execution_count": 3,
   "id": "b8ee9c85-9f2d-4c97-8aba-0d9d2568a1cb",
   "metadata": {},
   "outputs": [],
   "source": [
    "def pretty_print_linear(coefs, names=None, sort=False):\n",
    "    if names is None:\n",
    "        names = [\"X%s\" % x for x in range(len(coefs))]\n",
    "    lst = zip(coefs, names)\n",
    "    if sort:\n",
    "        lst = sorted(lst, key=lambda x: -np.abs(x[0]))\n",
    "    return \" + \".join(\"%s * %s\" % (round(coef, 3), name) for coef, name in lst)"
   ]
  },
  {
   "cell_type": "code",
   "execution_count": 4,
   "id": "acf9ba82-7f1d-4ede-aa9c-23f040e87cdd",
   "metadata": {},
   "outputs": [],
   "source": [
    "def plot_correlation(df, numerical_feature_columns, target, k):\n",
    "    cols = df[numerical_feature_columns].corr().nlargest(k, target)[target].index\n",
    "    cm = df[cols].corr()\n",
    "    plt.figure(figsize=(10,6))\n",
    "    return sns.heatmap(cm, annot=True, cmap = 'viridis')"
   ]
  },
  {
   "cell_type": "code",
   "execution_count": 5,
   "id": "d4ffaf39-88ee-4384-a3d0-7ee6445055c3",
   "metadata": {},
   "outputs": [],
   "source": [
    "def plot_correlation(df, numerical_feature_columns, target, k):\n",
    "    cols = df[numerical_feature_columns].corr().nlargest(k, target)[target].index\n",
    "    cm = df[cols].corr()\n",
    "    plt.figure(figsize=(10,6))\n",
    "    return sns.heatmap(cm, annot=True, cmap = 'viridis')\n",
    "\n",
    "def fit_ols(x, y):\n",
    "    model = sm.OLS(y, x)\n",
    "    results = model.fit()\n",
    "    return results.summary()"
   ]
  },
  {
   "cell_type": "code",
   "execution_count": 6,
   "id": "d679db8c-7fa6-4e3a-a2da-4bfe1852c9a5",
   "metadata": {},
   "outputs": [],
   "source": [
    "def generate_vif(df, target):\n",
    "    X_var = add_constant(df.loc[:, df.columns != target])\n",
    "    return pd.Series(\n",
    "        [variance_inflation_factor(X_var.values, i) for i in range(X_var.shape[1])],\n",
    "        index=X_var.columns,\n",
    "    )"
   ]
  },
  {
   "cell_type": "code",
   "execution_count": 7,
   "id": "b8933877-82d5-4fc4-81e0-beec36775a09",
   "metadata": {},
   "outputs": [],
   "source": [
    "def generate_x_y_numeric_target(df, target):\n",
    "    numerical_feature_columns = list(df._get_numeric_data().columns)\n",
    "    X = df.loc[:, df.columns != target].values\n",
    "    Y = df.loc[:, df.columns == target].values\n",
    "    return numerical_feature_columns, X, Y"
   ]
  },
  {
   "cell_type": "code",
   "execution_count": 8,
   "id": "89993945-f43e-474d-b085-a795efebf010",
   "metadata": {},
   "outputs": [],
   "source": [
    "df = pd.read_csv(r\"C:\\Users\\Aditya kumar Dubey\\OneDrive\\Apps\\Documents\\Desktop\\Data\\inp_data.csv\")"
   ]
  },
  {
   "cell_type": "code",
   "execution_count": 9,
   "id": "d65d41b0-f647-4ed8-8f34-4712928e6831",
   "metadata": {},
   "outputs": [
    {
     "data": {
      "text/html": [
       "<div>\n",
       "<style scoped>\n",
       "    .dataframe tbody tr th:only-of-type {\n",
       "        vertical-align: middle;\n",
       "    }\n",
       "\n",
       "    .dataframe tbody tr th {\n",
       "        vertical-align: top;\n",
       "    }\n",
       "\n",
       "    .dataframe thead th {\n",
       "        text-align: right;\n",
       "    }\n",
       "</style>\n",
       "<table border=\"1\" class=\"dataframe\">\n",
       "  <thead>\n",
       "    <tr style=\"text-align: right;\">\n",
       "      <th></th>\n",
       "      <th>x1</th>\n",
       "      <th>x2</th>\n",
       "      <th>x3</th>\n",
       "      <th>y</th>\n",
       "    </tr>\n",
       "  </thead>\n",
       "  <tbody>\n",
       "    <tr>\n",
       "      <th>0</th>\n",
       "      <td>100</td>\n",
       "      <td>110</td>\n",
       "      <td>40</td>\n",
       "      <td>3.900</td>\n",
       "    </tr>\n",
       "    <tr>\n",
       "      <th>1</th>\n",
       "      <td>95</td>\n",
       "      <td>110</td>\n",
       "      <td>40</td>\n",
       "      <td>2.600</td>\n",
       "    </tr>\n",
       "    <tr>\n",
       "      <th>2</th>\n",
       "      <td>90</td>\n",
       "      <td>120</td>\n",
       "      <td>30</td>\n",
       "      <td>2.700</td>\n",
       "    </tr>\n",
       "    <tr>\n",
       "      <th>3</th>\n",
       "      <td>85</td>\n",
       "      <td>110</td>\n",
       "      <td>40</td>\n",
       "      <td>3.000</td>\n",
       "    </tr>\n",
       "    <tr>\n",
       "      <th>4</th>\n",
       "      <td>80</td>\n",
       "      <td>100</td>\n",
       "      <td>20</td>\n",
       "      <td>2.400</td>\n",
       "    </tr>\n",
       "    <tr>\n",
       "      <th>5</th>\n",
       "      <td>75</td>\n",
       "      <td>110</td>\n",
       "      <td>40</td>\n",
       "      <td>2.200</td>\n",
       "    </tr>\n",
       "    <tr>\n",
       "      <th>6</th>\n",
       "      <td>70</td>\n",
       "      <td>90</td>\n",
       "      <td>0</td>\n",
       "      <td>2.100</td>\n",
       "    </tr>\n",
       "    <tr>\n",
       "      <th>7</th>\n",
       "      <td>65</td>\n",
       "      <td>110</td>\n",
       "      <td>40</td>\n",
       "      <td>2.100</td>\n",
       "    </tr>\n",
       "    <tr>\n",
       "      <th>8</th>\n",
       "      <td>60</td>\n",
       "      <td>80</td>\n",
       "      <td>10</td>\n",
       "      <td>1.500</td>\n",
       "    </tr>\n",
       "    <tr>\n",
       "      <th>9</th>\n",
       "      <td>55</td>\n",
       "      <td>80</td>\n",
       "      <td>10</td>\n",
       "      <td>1.800</td>\n",
       "    </tr>\n",
       "  </tbody>\n",
       "</table>\n",
       "</div>"
      ],
      "text/plain": [
       "    x1   x2  x3     y\n",
       "0  100  110  40 3.900\n",
       "1   95  110  40 2.600\n",
       "2   90  120  30 2.700\n",
       "3   85  110  40 3.000\n",
       "4   80  100  20 2.400\n",
       "5   75  110  40 2.200\n",
       "6   70   90   0 2.100\n",
       "7   65  110  40 2.100\n",
       "8   60   80  10 1.500\n",
       "9   55   80  10 1.800"
      ]
     },
     "execution_count": 9,
     "metadata": {},
     "output_type": "execute_result"
    }
   ],
   "source": [
    "df"
   ]
  },
  {
   "cell_type": "code",
   "execution_count": 10,
   "id": "685f8b7b-7fdf-41ad-a95e-f8efc6596d4d",
   "metadata": {},
   "outputs": [
    {
     "data": {
      "text/plain": [
       "<Axes: >"
      ]
     },
     "execution_count": 10,
     "metadata": {},
     "output_type": "execute_result"
    },
    {
     "data": {
      "image/png": "[encoded data removed]",
      "text/plain": [
       "<Figure size 1000x600 with 2 Axes>"
      ]
     },
     "metadata": {},
     "output_type": "display_data"
    }
   ],
   "source": [
    "target = 'y'\n",
    "numeric_cols, X, Y = generate_x_y_numeric_target(df, target)\n",
    "plot_correlation(df, numeric_cols, target, 5)"
   ]
  },
  {
   "cell_type": "code",
   "execution_count": 11,
   "id": "47886c92-c092-486a-898a-606a5e67f82f",
   "metadata": {},
   "outputs": [
    {
     "name": "stdout",
     "output_type": "stream",
     "text": [
      "                                 OLS Regression Results                                \n",
      "=======================================================================================\n",
      "Dep. Variable:                      y   R-squared (uncentered):                   0.986\n",
      "Model:                            OLS   Adj. R-squared (uncentered):              0.981\n",
      "Method:                 Least Squares   F-statistic:                              169.8\n",
      "Date:                Fri, 04 Apr 2025   Prob (F-statistic):                    6.72e-07\n",
      "Time:                        03:18:28   Log-Likelihood:                         -1.9021\n",
      "No. Observations:                  10   AIC:                                      9.804\n",
      "Df Residuals:                       7   BIC:                                      10.71\n",
      "Df Model:                           3                                                  \n",
      "Covariance Type:            nonrobust                                                  \n",
      "==============================================================================\n",
      "                 coef    std err          t      P>|t|      [0.025      0.975]\n",
      "------------------------------------------------------------------------------\n",
      "x1             0.0405      0.012      3.420      0.011       0.012       0.068\n",
      "x2            -0.0093      0.009     -0.997      0.352      -0.031       0.013\n",
      "x3             0.0090      0.009      0.982      0.359      -0.013       0.031\n",
      "==============================================================================\n",
      "Omnibus:                        0.439   Durbin-Watson:                   2.500\n",
      "Prob(Omnibus):                  0.803   Jarque-Bera (JB):                0.131\n",
      "Skew:                          -0.234   Prob(JB):                        0.937\n",
      "Kurtosis:                       2.692   Cond. No.                         17.9\n",
      "==============================================================================\n",
      "\n",
      "Notes:\n",
      "[1] R² is computed without centering (uncentered) since the model does not contain a constant.\n",
      "[2] Standard Errors assume that the covariance matrix of the errors is correctly specified.\n"
     ]
    }
   ],
   "source": [
    "print(fit_ols(X,Y))"
   ]
  },
  {
   "cell_type": "code",
   "execution_count": 12,
   "id": "1e91ec71-d968-4dd1-922d-1ba2d1b36289",
   "metadata": {},
   "outputs": [
    {
     "name": "stdout",
     "output_type": "stream",
     "text": [
      "const   135.872\n",
      "x1        2.384\n",
      "x2        5.028\n",
      "x3        3.441\n",
      "dtype: float64\n"
     ]
    }
   ],
   "source": [
    "print (generate_vif(df, target))"
   ]
  },
  {
   "cell_type": "code",
   "execution_count": 13,
   "id": "a972bddd-0ff0-4683-8393-11cdba67d2c8",
   "metadata": {},
   "outputs": [],
   "source": [
    "df['x4'] = df['x1'] + df['x2'] + df['x3']"
   ]
  },
  {
   "cell_type": "code",
   "execution_count": 14,
   "id": "7044e967-795b-4477-b00b-ab918efd7671",
   "metadata": {},
   "outputs": [
    {
     "data": {
      "text/html": [
       "<div>\n",
       "<style scoped>\n",
       "    .dataframe tbody tr th:only-of-type {\n",
       "        vertical-align: middle;\n",
       "    }\n",
       "\n",
       "    .dataframe tbody tr th {\n",
       "        vertical-align: top;\n",
       "    }\n",
       "\n",
       "    .dataframe thead th {\n",
       "        text-align: right;\n",
       "    }\n",
       "</style>\n",
       "<table border=\"1\" class=\"dataframe\">\n",
       "  <thead>\n",
       "    <tr style=\"text-align: right;\">\n",
       "      <th></th>\n",
       "      <th>x1</th>\n",
       "      <th>x2</th>\n",
       "      <th>x3</th>\n",
       "      <th>y</th>\n",
       "      <th>x4</th>\n",
       "    </tr>\n",
       "  </thead>\n",
       "  <tbody>\n",
       "    <tr>\n",
       "      <th>0</th>\n",
       "      <td>100</td>\n",
       "      <td>110</td>\n",
       "      <td>40</td>\n",
       "      <td>3.900</td>\n",
       "      <td>250</td>\n",
       "    </tr>\n",
       "    <tr>\n",
       "      <th>1</th>\n",
       "      <td>95</td>\n",
       "      <td>110</td>\n",
       "      <td>40</td>\n",
       "      <td>2.600</td>\n",
       "      <td>245</td>\n",
       "    </tr>\n",
       "    <tr>\n",
       "      <th>2</th>\n",
       "      <td>90</td>\n",
       "      <td>120</td>\n",
       "      <td>30</td>\n",
       "      <td>2.700</td>\n",
       "      <td>240</td>\n",
       "    </tr>\n",
       "    <tr>\n",
       "      <th>3</th>\n",
       "      <td>85</td>\n",
       "      <td>110</td>\n",
       "      <td>40</td>\n",
       "      <td>3.000</td>\n",
       "      <td>235</td>\n",
       "    </tr>\n",
       "    <tr>\n",
       "      <th>4</th>\n",
       "      <td>80</td>\n",
       "      <td>100</td>\n",
       "      <td>20</td>\n",
       "      <td>2.400</td>\n",
       "      <td>200</td>\n",
       "    </tr>\n",
       "    <tr>\n",
       "      <th>5</th>\n",
       "      <td>75</td>\n",
       "      <td>110</td>\n",
       "      <td>40</td>\n",
       "      <td>2.200</td>\n",
       "      <td>225</td>\n",
       "    </tr>\n",
       "    <tr>\n",
       "      <th>6</th>\n",
       "      <td>70</td>\n",
       "      <td>90</td>\n",
       "      <td>0</td>\n",
       "      <td>2.100</td>\n",
       "      <td>160</td>\n",
       "    </tr>\n",
       "    <tr>\n",
       "      <th>7</th>\n",
       "      <td>65</td>\n",
       "      <td>110</td>\n",
       "      <td>40</td>\n",
       "      <td>2.100</td>\n",
       "      <td>215</td>\n",
       "    </tr>\n",
       "    <tr>\n",
       "      <th>8</th>\n",
       "      <td>60</td>\n",
       "      <td>80</td>\n",
       "      <td>10</td>\n",
       "      <td>1.500</td>\n",
       "      <td>150</td>\n",
       "    </tr>\n",
       "    <tr>\n",
       "      <th>9</th>\n",
       "      <td>55</td>\n",
       "      <td>80</td>\n",
       "      <td>10</td>\n",
       "      <td>1.800</td>\n",
       "      <td>145</td>\n",
       "    </tr>\n",
       "  </tbody>\n",
       "</table>\n",
       "</div>"
      ],
      "text/plain": [
       "    x1   x2  x3     y   x4\n",
       "0  100  110  40 3.900  250\n",
       "1   95  110  40 2.600  245\n",
       "2   90  120  30 2.700  240\n",
       "3   85  110  40 3.000  235\n",
       "4   80  100  20 2.400  200\n",
       "5   75  110  40 2.200  225\n",
       "6   70   90   0 2.100  160\n",
       "7   65  110  40 2.100  215\n",
       "8   60   80  10 1.500  150\n",
       "9   55   80  10 1.800  145"
      ]
     },
     "execution_count": 14,
     "metadata": {},
     "output_type": "execute_result"
    }
   ],
   "source": [
    "df"
   ]
  },
  {
   "cell_type": "code",
   "execution_count": 15,
   "id": "352f6260-b1d9-49e6-a27b-f1a66786e35b",
   "metadata": {},
   "outputs": [
    {
     "data": {
      "text/plain": [
       "<Axes: >"
      ]
     },
     "execution_count": 15,
     "metadata": {},
     "output_type": "execute_result"
    },
    {
     "data": {
      "image/png": "[encoded data removed]",
      "text/plain": [
       "<Figure size 1000x600 with 2 Axes>"
      ]
     },
     "metadata": {},
     "output_type": "display_data"
    }
   ],
   "source": [
    "target = 'y'\n",
    "numeric_cols, X, Y = generate_x_y_numeric_target(df, target)\n",
    "plot_correlation(df, numeric_cols, target, 5)"
   ]
  },
  {
   "cell_type": "code",
   "execution_count": 16,
   "id": "da9deb13-57dd-45d0-a1ae-fa0330872292",
   "metadata": {},
   "outputs": [
    {
     "name": "stdout",
     "output_type": "stream",
     "text": [
      "                                 OLS Regression Results                                \n",
      "=======================================================================================\n",
      "Dep. Variable:                      y   R-squared (uncentered):                   0.986\n",
      "Model:                            OLS   Adj. R-squared (uncentered):              0.981\n",
      "Method:                 Least Squares   F-statistic:                              169.8\n",
      "Date:                Fri, 04 Apr 2025   Prob (F-statistic):                    6.72e-07\n",
      "Time:                        03:19:59   Log-Likelihood:                         -1.9021\n",
      "No. Observations:                  10   AIC:                                      9.804\n",
      "Df Residuals:                       7   BIC:                                      10.71\n",
      "Df Model:                           3                                                  \n",
      "Covariance Type:            nonrobust                                                  \n",
      "==============================================================================\n",
      "                 coef    std err          t      P>|t|      [0.025      0.975]\n",
      "------------------------------------------------------------------------------\n",
      "x1             0.0304      0.011      2.692      0.031       0.004       0.057\n",
      "x2            -0.0194      0.011     -1.844      0.108      -0.044       0.005\n",
      "x3            -0.0010      0.008     -0.131      0.899      -0.019       0.017\n",
      "x4             0.0100      0.002      5.540      0.001       0.006       0.014\n",
      "==============================================================================\n",
      "Omnibus:                        0.439   Durbin-Watson:                   2.500\n",
      "Prob(Omnibus):                  0.803   Jarque-Bera (JB):                0.131\n",
      "Skew:                          -0.234   Prob(JB):                        0.937\n",
      "Kurtosis:                       2.692   Cond. No.                     2.77e+16\n",
      "==============================================================================\n",
      "\n",
      "Notes:\n",
      "[1] R² is computed without centering (uncentered) since the model does not contain a constant.\n",
      "[2] Standard Errors assume that the covariance matrix of the errors is correctly specified.\n",
      "[3] The smallest eigenvalue is 8.04e-28. This might indicate that there are\n",
      "strong multicollinearity problems or that the design matrix is singular.\n"
     ]
    }
   ],
   "source": [
    "print(fit_ols(X,Y))"
   ]
  },
  {
   "cell_type": "code",
   "execution_count": 17,
   "id": "1f2d3e54-9a2a-40aa-bb37-2465620ca78f",
   "metadata": {},
   "outputs": [
    {
     "name": "stdout",
     "output_type": "stream",
     "text": [
      "const   135.872\n",
      "x1          inf\n",
      "x2          inf\n",
      "x3          inf\n",
      "x4          inf\n",
      "dtype: float64\n"
     ]
    }
   ],
   "source": [
    "print (generate_vif(df, target))"
   ]
  },
  {
   "cell_type": "code",
   "execution_count": null,
   "id": "cefae701-c55d-4b7f-9a9e-d7b5eb9cc5fd",
   "metadata": {},
   "outputs": [],
   "source": []
  },
  {
   "cell_type": "code",
   "execution_count": null,
   "id": "d62fb89a-0f94-495c-81e2-bad01c3767cf",
   "metadata": {},
   "outputs": [],
   "source": []
  },
  {
   "cell_type": "code",
   "execution_count": 18,
   "id": "cbe1189f-1c4f-4b21-bfac-ce8de00dc315",
   "metadata": {},
   "outputs": [
    {
     "name": "stdout",
     "output_type": "stream",
     "text": [
      "[[ 62125  80500  22250 164875]\n",
      " [ 80500 105800  29200 215500]\n",
      " [ 22250  29200   9500  60950]\n",
      " [164875 215500  60950 441325]]\n"
     ]
    }
   ],
   "source": [
    "covariance_matrix = np.dot(X.T, X)\n",
    "print (covariance_matrix)"
   ]
  },
  {
   "cell_type": "code",
   "execution_count": 19,
   "id": "00ec20c6-a8c3-4664-9282-af46a531aaa0",
   "metadata": {},
   "outputs": [
    {
     "data": {
      "text/plain": [
       "3"
      ]
     },
     "execution_count": 19,
     "metadata": {},
     "output_type": "execute_result"
    }
   ],
   "source": [
    "matrix_rank(covariance_matrix)"
   ]
  },
  {
   "cell_type": "code",
   "execution_count": 21,
   "id": "839d8467-58cb-4b42-ad7d-596c02a79ed4",
   "metadata": {},
   "outputs": [],
   "source": [
    "#inverse_covariance_matrix = inv(covariance_matrix)"
   ]
  },
  {
   "cell_type": "code",
   "execution_count": 22,
   "id": "d3991e0a-b374-48a0-9c01-19358910a8f7",
   "metadata": {},
   "outputs": [
    {
     "name": "stdout",
     "output_type": "stream",
     "text": [
      "[[ 62125  80500]\n",
      " [ 80500 105800]]\n"
     ]
    }
   ],
   "source": [
    "X_sliced = X[:, 0:2]\n",
    "covariance_matrix = np.dot(X_sliced.T, X_sliced)\n",
    "print (covariance_matrix)"
   ]
  },
  {
   "cell_type": "code",
   "execution_count": 23,
   "id": "ca099f20-ef86-458a-87e6-ae78f701d92d",
   "metadata": {},
   "outputs": [
    {
     "data": {
      "text/plain": [
       "2"
      ]
     },
     "execution_count": 23,
     "metadata": {},
     "output_type": "execute_result"
    }
   ],
   "source": [
    "matrix_rank(covariance_matrix)"
   ]
  },
  {
   "cell_type": "code",
   "execution_count": 24,
   "id": "3d071d2e-91f6-4702-95ff-116b3392d5ed",
   "metadata": {},
   "outputs": [],
   "source": [
    "inverse_covariance_matrix = inv(covariance_matrix)"
   ]
  },
  {
   "cell_type": "code",
   "execution_count": 25,
   "id": "0d69c90d-dee5-41b8-ace1-c9131bcb458c",
   "metadata": {},
   "outputs": [
    {
     "name": "stdout",
     "output_type": "stream",
     "text": [
      "[[ 0.0408]\n",
      " [-0.0071]]\n"
     ]
    }
   ],
   "source": [
    "weights = np.dot(np.dot(inverse_covariance_matrix, X_sliced.T), Y)\n",
    "print (weights)"
   ]
  },
  {
   "cell_type": "code",
   "execution_count": 26,
   "id": "7c8645d7-5891-4b1c-ac18-428fa93fed2c",
   "metadata": {},
   "outputs": [
    {
     "name": "stdout",
     "output_type": "stream",
     "text": [
      "                                 OLS Regression Results                                \n",
      "=======================================================================================\n",
      "Dep. Variable:                      y   R-squared (uncentered):                   0.985\n",
      "Model:                            OLS   Adj. R-squared (uncentered):              0.981\n",
      "Method:                 Least Squares   F-statistic:                              255.3\n",
      "Date:                Fri, 04 Apr 2025   Prob (F-statistic):                    5.66e-08\n",
      "Time:                        03:22:33   Log-Likelihood:                         -2.5469\n",
      "No. Observations:                  10   AIC:                                      9.094\n",
      "Df Residuals:                       8   BIC:                                      9.699\n",
      "Df Model:                           2                                                  \n",
      "Covariance Type:            nonrobust                                                  \n",
      "==============================================================================\n",
      "                 coef    std err          t      P>|t|      [0.025      0.975]\n",
      "------------------------------------------------------------------------------\n",
      "x1             0.0408      0.012      3.458      0.009       0.014       0.068\n",
      "x2            -0.0071      0.009     -0.783      0.456      -0.028       0.014\n",
      "==============================================================================\n",
      "Omnibus:                        0.365   Durbin-Watson:                   2.563\n",
      "Prob(Omnibus):                  0.833   Jarque-Bera (JB):                0.333\n",
      "Skew:                           0.332   Prob(JB):                        0.847\n",
      "Kurtosis:                       2.402   Cond. No.                         17.4\n",
      "==============================================================================\n",
      "\n",
      "Notes:\n",
      "[1] R² is computed without centering (uncentered) since the model does not contain a constant.\n",
      "[2] Standard Errors assume that the covariance matrix of the errors is correctly specified.\n"
     ]
    }
   ],
   "source": [
    "print(fit_ols(X_sliced,Y))"
   ]
  },
  {
   "cell_type": "code",
   "execution_count": null,
   "id": "f89059c1-f6b4-47e9-b61a-47e716868372",
   "metadata": {},
   "outputs": [],
   "source": []
  }
 ],
 "metadata": {
  "kernelspec": {
   "display_name": "Python 3 (ipykernel)",
   "language": "python",
   "name": "python3"
  },
  "language_info": {
   "codemirror_mode": {
    "name": "ipython",
    "version": 3
   },
   "file_extension": ".py",
   "mimetype": "text/x-python",
   "name": "python",
   "nbconvert_exporter": "python",
   "pygments_lexer": "ipython3",
   "version": "3.12.7"
  },
  "widgets": {
   "application/vnd.jupyter.widget-state+json": {
    "state": {},
    "version_major": 2,
    "version_minor": 0
   }
  }
 },
 "nbformat": 4,
 "nbformat_minor": 5
}
