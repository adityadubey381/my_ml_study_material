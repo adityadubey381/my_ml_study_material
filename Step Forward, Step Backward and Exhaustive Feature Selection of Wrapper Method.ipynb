{
 "cells": [
  {
   "cell_type": "code",
   "execution_count": 5,
   "id": "5ac865dd-349b-4534-8adf-9e847b1d1de7",
   "metadata": {},
   "outputs": [],
   "source": [
    "import numpy as np\n",
    "import pandas as pd\n",
    "import seaborn as sns\n",
    "import matplotlib.pyplot as plt\n",
    "%matplotlib inline"
   ]
  },
  {
   "cell_type": "code",
   "execution_count": 4,
   "id": "afcb85a5-5a14-4a51-97df-d4af8ab76d9c",
   "metadata": {},
   "outputs": [],
   "source": [
    "from sklearn.model_selection import train_test_split\n",
    "from sklearn.ensemble import RandomForestRegressor, RandomForestClassifier\n",
    "from sklearn.metrics import roc_auc_score\n",
    "from mlxtend.feature_selection import SequentialFeatureSelector as SFS"
   ]
  },
  {
   "cell_type": "code",
   "execution_count": 3,
   "id": "8d8ffb8f-6385-4898-8db8-0f3681a0e49d",
   "metadata": {},
   "outputs": [
    {
     "name": "stdout",
     "output_type": "stream",
     "text": [
      "Requirement already satisfied: mlxtend in c:\\users\\aditya kumar dubey\\anaconda3\\envs\\dubey\\lib\\site-packages (0.23.4)\n",
      "Requirement already satisfied: scipy>=1.2.1 in c:\\users\\aditya kumar dubey\\anaconda3\\envs\\dubey\\lib\\site-packages (from mlxtend) (1.15.1)\n",
      "Requirement already satisfied: numpy>=1.16.2 in c:\\users\\aditya kumar dubey\\anaconda3\\envs\\dubey\\lib\\site-packages (from mlxtend) (2.1.2)\n",
      "Requirement already satisfied: pandas>=0.24.2 in c:\\users\\aditya kumar dubey\\anaconda3\\envs\\dubey\\lib\\site-packages (from mlxtend) (2.2.3)\n",
      "Requirement already satisfied: scikit-learn>=1.3.1 in c:\\users\\aditya kumar dubey\\anaconda3\\envs\\dubey\\lib\\site-packages (from mlxtend) (1.6.1)\n",
      "Requirement already satisfied: matplotlib>=3.0.0 in c:\\users\\aditya kumar dubey\\anaconda3\\envs\\dubey\\lib\\site-packages (from mlxtend) (3.10.0)\n",
      "Requirement already satisfied: joblib>=0.13.2 in c:\\users\\aditya kumar dubey\\anaconda3\\envs\\dubey\\lib\\site-packages (from mlxtend) (1.4.2)\n",
      "Requirement already satisfied: contourpy>=1.0.1 in c:\\users\\aditya kumar dubey\\anaconda3\\envs\\dubey\\lib\\site-packages (from matplotlib>=3.0.0->mlxtend) (1.3.1)\n",
      "Requirement already satisfied: cycler>=0.10 in c:\\users\\aditya kumar dubey\\anaconda3\\envs\\dubey\\lib\\site-packages (from matplotlib>=3.0.0->mlxtend) (0.12.1)\n",
      "Requirement already satisfied: fonttools>=4.22.0 in c:\\users\\aditya kumar dubey\\anaconda3\\envs\\dubey\\lib\\site-packages (from matplotlib>=3.0.0->mlxtend) (4.56.0)\n",
      "Requirement already satisfied: kiwisolver>=1.3.1 in c:\\users\\aditya kumar dubey\\anaconda3\\envs\\dubey\\lib\\site-packages (from matplotlib>=3.0.0->mlxtend) (1.4.8)\n",
      "Requirement already satisfied: packaging>=20.0 in c:\\users\\aditya kumar dubey\\anaconda3\\envs\\dubey\\lib\\site-packages (from matplotlib>=3.0.0->mlxtend) (24.1)\n",
      "Requirement already satisfied: pillow>=8 in c:\\users\\aditya kumar dubey\\anaconda3\\envs\\dubey\\lib\\site-packages (from matplotlib>=3.0.0->mlxtend) (11.1.0)\n",
      "Requirement already satisfied: pyparsing>=2.3.1 in c:\\users\\aditya kumar dubey\\anaconda3\\envs\\dubey\\lib\\site-packages (from matplotlib>=3.0.0->mlxtend) (3.2.1)\n",
      "Requirement already satisfied: python-dateutil>=2.7 in c:\\users\\aditya kumar dubey\\anaconda3\\envs\\dubey\\lib\\site-packages (from matplotlib>=3.0.0->mlxtend) (2.9.0.post0)\n",
      "Requirement already satisfied: pytz>=2020.1 in c:\\users\\aditya kumar dubey\\anaconda3\\envs\\dubey\\lib\\site-packages (from pandas>=0.24.2->mlxtend) (2024.1)\n",
      "Requirement already satisfied: tzdata>=2022.7 in c:\\users\\aditya kumar dubey\\anaconda3\\envs\\dubey\\lib\\site-packages (from pandas>=0.24.2->mlxtend) (2025.1)\n",
      "Requirement already satisfied: threadpoolctl>=3.1.0 in c:\\users\\aditya kumar dubey\\anaconda3\\envs\\dubey\\lib\\site-packages (from scikit-learn>=1.3.1->mlxtend) (3.5.0)\n",
      "Requirement already satisfied: six>=1.5 in c:\\users\\aditya kumar dubey\\anaconda3\\envs\\dubey\\lib\\site-packages (from python-dateutil>=2.7->matplotlib>=3.0.0->mlxtend) (1.16.0)\n"
     ]
    }
   ],
   "source": [
    "!pip install mlxtend"
   ]
  },
  {
   "cell_type": "code",
   "execution_count": 9,
   "id": "d7ad6bd2-cdf0-44d2-a3ca-bdef7ea3d656",
   "metadata": {},
   "outputs": [],
   "source": [
    "from sklearn.datasets import load_wine\n",
    "from sklearn.preprocessing import StandardScaler"
   ]
  },
  {
   "cell_type": "code",
   "execution_count": 10,
   "id": "d7f2ae66-a1db-4623-af74-b4fabbc4a3d2",
   "metadata": {},
   "outputs": [],
   "source": [
    "data = load_wine()"
   ]
  },
  {
   "cell_type": "code",
   "execution_count": 11,
   "id": "c0abb225-a89b-4fb1-83e1-6da123dc2879",
   "metadata": {},
   "outputs": [
    {
     "data": {
      "text/plain": [
       "dict_keys(['data', 'target', 'frame', 'target_names', 'DESCR', 'feature_names'])"
      ]
     },
     "execution_count": 11,
     "metadata": {},
     "output_type": "execute_result"
    }
   ],
   "source": [
    "data.keys()"
   ]
  },
  {
   "cell_type": "code",
   "execution_count": 7,
   "id": "b267cd21-dc93-449b-912d-1709a8c5e402",
   "metadata": {},
   "outputs": [
    {
     "name": "stdout",
     "output_type": "stream",
     "text": [
      ".. _wine_dataset:\n",
      "\n",
      "Wine recognition dataset\n",
      "------------------------\n",
      "\n",
      "**Data Set Characteristics:**\n",
      "\n",
      ":Number of Instances: 178\n",
      ":Number of Attributes: 13 numeric, predictive attributes and the class\n",
      ":Attribute Information:\n",
      "    - Alcohol\n",
      "    - Malic acid\n",
      "    - Ash\n",
      "    - Alcalinity of ash\n",
      "    - Magnesium\n",
      "    - Total phenols\n",
      "    - Flavanoids\n",
      "    - Nonflavanoid phenols\n",
      "    - Proanthocyanins\n",
      "    - Color intensity\n",
      "    - Hue\n",
      "    - OD280/OD315 of diluted wines\n",
      "    - Proline\n",
      "    - class:\n",
      "        - class_0\n",
      "        - class_1\n",
      "        - class_2\n",
      "\n",
      ":Summary Statistics:\n",
      "\n",
      "============================= ==== ===== ======= =====\n",
      "                                Min   Max   Mean     SD\n",
      "============================= ==== ===== ======= =====\n",
      "Alcohol:                      11.0  14.8    13.0   0.8\n",
      "Malic Acid:                   0.74  5.80    2.34  1.12\n",
      "Ash:                          1.36  3.23    2.36  0.27\n",
      "Alcalinity of Ash:            10.6  30.0    19.5   3.3\n",
      "Magnesium:                    70.0 162.0    99.7  14.3\n",
      "Total Phenols:                0.98  3.88    2.29  0.63\n",
      "Flavanoids:                   0.34  5.08    2.03  1.00\n",
      "Nonflavanoid Phenols:         0.13  0.66    0.36  0.12\n",
      "Proanthocyanins:              0.41  3.58    1.59  0.57\n",
      "Colour Intensity:              1.3  13.0     5.1   2.3\n",
      "Hue:                          0.48  1.71    0.96  0.23\n",
      "OD280/OD315 of diluted wines: 1.27  4.00    2.61  0.71\n",
      "Proline:                       278  1680     746   315\n",
      "============================= ==== ===== ======= =====\n",
      "\n",
      ":Missing Attribute Values: None\n",
      ":Class Distribution: class_0 (59), class_1 (71), class_2 (48)\n",
      ":Creator: R.A. Fisher\n",
      ":Donor: Michael Marshall (MARSHALL%PLU@io.arc.nasa.gov)\n",
      ":Date: July, 1988\n",
      "\n",
      "This is a copy of UCI ML Wine recognition datasets.\n",
      "https://archive.ics.uci.edu/ml/machine-learning-databases/wine/wine.data\n",
      "\n",
      "The data is the results of a chemical analysis of wines grown in the same\n",
      "region in Italy by three different cultivators. There are thirteen different\n",
      "measurements taken for different constituents found in the three types of\n",
      "wine.\n",
      "\n",
      "Original Owners:\n",
      "\n",
      "Forina, M. et al, PARVUS -\n",
      "An Extendible Package for Data Exploration, Classification and Correlation.\n",
      "Institute of Pharmaceutical and Food Analysis and Technologies,\n",
      "Via Brigata Salerno, 16147 Genoa, Italy.\n",
      "\n",
      "Citation:\n",
      "\n",
      "Lichman, M. (2013). UCI Machine Learning Repository\n",
      "[https://archive.ics.uci.edu/ml]. Irvine, CA: University of California,\n",
      "School of Information and Computer Science.\n",
      "\n",
      ".. dropdown:: References\n",
      "\n",
      "    (1) S. Aeberhard, D. Coomans and O. de Vel,\n",
      "    Comparison of Classifiers in High Dimensional Settings,\n",
      "    Tech. Rep. no. 92-02, (1992), Dept. of Computer Science and Dept. of\n",
      "    Mathematics and Statistics, James Cook University of North Queensland.\n",
      "    (Also submitted to Technometrics).\n",
      "\n",
      "    The data was used with many others for comparing various\n",
      "    classifiers. The classes are separable, though only RDA\n",
      "    has achieved 100% correct classification.\n",
      "    (RDA : 100%, QDA 99.4%, LDA 98.9%, 1NN 96.1% (z-transformed data))\n",
      "    (All results using the leave-one-out technique)\n",
      "\n",
      "    (2) S. Aeberhard, D. Coomans and O. de Vel,\n",
      "    \"THE CLASSIFICATION PERFORMANCE OF RDA\"\n",
      "    Tech. Rep. no. 92-01, (1992), Dept. of Computer Science and Dept. of\n",
      "    Mathematics and Statistics, James Cook University of North Queensland.\n",
      "    (Also submitted to Journal of Chemometrics).\n",
      "\n"
     ]
    }
   ],
   "source": [
    "print(data.DESCR)"
   ]
  },
  {
   "cell_type": "code",
   "execution_count": 12,
   "id": "c512a525-2841-42a4-81b3-36f2ce70d8ab",
   "metadata": {},
   "outputs": [],
   "source": [
    "X = pd.DataFrame(data.data)\n",
    "y = data.target"
   ]
  },
  {
   "cell_type": "code",
   "execution_count": 13,
   "id": "b2e5fe26-84de-4bde-8537-d73184dc6be8",
   "metadata": {},
   "outputs": [
    {
     "data": {
      "text/html": [
       "<div>\n",
       "<style scoped>\n",
       "    .dataframe tbody tr th:only-of-type {\n",
       "        vertical-align: middle;\n",
       "    }\n",
       "\n",
       "    .dataframe tbody tr th {\n",
       "        vertical-align: top;\n",
       "    }\n",
       "\n",
       "    .dataframe thead th {\n",
       "        text-align: right;\n",
       "    }\n",
       "</style>\n",
       "<table border=\"1\" class=\"dataframe\">\n",
       "  <thead>\n",
       "    <tr style=\"text-align: right;\">\n",
       "      <th></th>\n",
       "      <th>alcohol</th>\n",
       "      <th>malic_acid</th>\n",
       "      <th>ash</th>\n",
       "      <th>alcalinity_of_ash</th>\n",
       "      <th>magnesium</th>\n",
       "      <th>total_phenols</th>\n",
       "      <th>flavanoids</th>\n",
       "      <th>nonflavanoid_phenols</th>\n",
       "      <th>proanthocyanins</th>\n",
       "      <th>color_intensity</th>\n",
       "      <th>hue</th>\n",
       "      <th>od280/od315_of_diluted_wines</th>\n",
       "      <th>proline</th>\n",
       "    </tr>\n",
       "  </thead>\n",
       "  <tbody>\n",
       "    <tr>\n",
       "      <th>0</th>\n",
       "      <td>14.23</td>\n",
       "      <td>1.71</td>\n",
       "      <td>2.43</td>\n",
       "      <td>15.6</td>\n",
       "      <td>127.0</td>\n",
       "      <td>2.80</td>\n",
       "      <td>3.06</td>\n",
       "      <td>0.28</td>\n",
       "      <td>2.29</td>\n",
       "      <td>5.64</td>\n",
       "      <td>1.04</td>\n",
       "      <td>3.92</td>\n",
       "      <td>1065.0</td>\n",
       "    </tr>\n",
       "    <tr>\n",
       "      <th>1</th>\n",
       "      <td>13.20</td>\n",
       "      <td>1.78</td>\n",
       "      <td>2.14</td>\n",
       "      <td>11.2</td>\n",
       "      <td>100.0</td>\n",
       "      <td>2.65</td>\n",
       "      <td>2.76</td>\n",
       "      <td>0.26</td>\n",
       "      <td>1.28</td>\n",
       "      <td>4.38</td>\n",
       "      <td>1.05</td>\n",
       "      <td>3.40</td>\n",
       "      <td>1050.0</td>\n",
       "    </tr>\n",
       "    <tr>\n",
       "      <th>2</th>\n",
       "      <td>13.16</td>\n",
       "      <td>2.36</td>\n",
       "      <td>2.67</td>\n",
       "      <td>18.6</td>\n",
       "      <td>101.0</td>\n",
       "      <td>2.80</td>\n",
       "      <td>3.24</td>\n",
       "      <td>0.30</td>\n",
       "      <td>2.81</td>\n",
       "      <td>5.68</td>\n",
       "      <td>1.03</td>\n",
       "      <td>3.17</td>\n",
       "      <td>1185.0</td>\n",
       "    </tr>\n",
       "    <tr>\n",
       "      <th>3</th>\n",
       "      <td>14.37</td>\n",
       "      <td>1.95</td>\n",
       "      <td>2.50</td>\n",
       "      <td>16.8</td>\n",
       "      <td>113.0</td>\n",
       "      <td>3.85</td>\n",
       "      <td>3.49</td>\n",
       "      <td>0.24</td>\n",
       "      <td>2.18</td>\n",
       "      <td>7.80</td>\n",
       "      <td>0.86</td>\n",
       "      <td>3.45</td>\n",
       "      <td>1480.0</td>\n",
       "    </tr>\n",
       "    <tr>\n",
       "      <th>4</th>\n",
       "      <td>13.24</td>\n",
       "      <td>2.59</td>\n",
       "      <td>2.87</td>\n",
       "      <td>21.0</td>\n",
       "      <td>118.0</td>\n",
       "      <td>2.80</td>\n",
       "      <td>2.69</td>\n",
       "      <td>0.39</td>\n",
       "      <td>1.82</td>\n",
       "      <td>4.32</td>\n",
       "      <td>1.04</td>\n",
       "      <td>2.93</td>\n",
       "      <td>735.0</td>\n",
       "    </tr>\n",
       "  </tbody>\n",
       "</table>\n",
       "</div>"
      ],
      "text/plain": [
       "   alcohol  malic_acid   ash  alcalinity_of_ash  magnesium  total_phenols  \\\n",
       "0    14.23        1.71  2.43               15.6      127.0           2.80   \n",
       "1    13.20        1.78  2.14               11.2      100.0           2.65   \n",
       "2    13.16        2.36  2.67               18.6      101.0           2.80   \n",
       "3    14.37        1.95  2.50               16.8      113.0           3.85   \n",
       "4    13.24        2.59  2.87               21.0      118.0           2.80   \n",
       "\n",
       "   flavanoids  nonflavanoid_phenols  proanthocyanins  color_intensity   hue  \\\n",
       "0        3.06                  0.28             2.29             5.64  1.04   \n",
       "1        2.76                  0.26             1.28             4.38  1.05   \n",
       "2        3.24                  0.30             2.81             5.68  1.03   \n",
       "3        3.49                  0.24             2.18             7.80  0.86   \n",
       "4        2.69                  0.39             1.82             4.32  1.04   \n",
       "\n",
       "   od280/od315_of_diluted_wines  proline  \n",
       "0                          3.92   1065.0  \n",
       "1                          3.40   1050.0  \n",
       "2                          3.17   1185.0  \n",
       "3                          3.45   1480.0  \n",
       "4                          2.93    735.0  "
      ]
     },
     "execution_count": 13,
     "metadata": {},
     "output_type": "execute_result"
    }
   ],
   "source": [
    "X.columns = data.feature_names\n",
    "X.head()"
   ]
  },
  {
   "cell_type": "code",
   "execution_count": 14,
   "id": "5f276c51-9df6-4af8-8070-dc9e3eb69c51",
   "metadata": {},
   "outputs": [
    {
     "data": {
      "text/plain": [
       "alcohol                         0\n",
       "malic_acid                      0\n",
       "ash                             0\n",
       "alcalinity_of_ash               0\n",
       "magnesium                       0\n",
       "total_phenols                   0\n",
       "flavanoids                      0\n",
       "nonflavanoid_phenols            0\n",
       "proanthocyanins                 0\n",
       "color_intensity                 0\n",
       "hue                             0\n",
       "od280/od315_of_diluted_wines    0\n",
       "proline                         0\n",
       "dtype: int64"
      ]
     },
     "execution_count": 14,
     "metadata": {},
     "output_type": "execute_result"
    }
   ],
   "source": [
    "X.isnull().sum()"
   ]
  },
  {
   "cell_type": "code",
   "execution_count": 15,
   "id": "252612fe-9702-4050-8bd4-423734dbccf0",
   "metadata": {},
   "outputs": [
    {
     "data": {
      "text/plain": [
       "((142, 13), (36, 13))"
      ]
     },
     "execution_count": 15,
     "metadata": {},
     "output_type": "execute_result"
    }
   ],
   "source": [
    "X_train, X_test, y_train, y_test = train_test_split(X, y, test_size = 0.2, random_state = 0)\n",
    "X_train.shape, X_test.shape"
   ]
  },
  {
   "cell_type": "markdown",
   "id": "7712d475-79a9-40bd-9111-0ccff63b9eec",
   "metadata": {},
   "source": [
    "# Step Forward Feature Selection (SFS)\n",
    "Here, we are using SequentialFeatureSelector() and passing Random Forest Classifier in this we are passing number of estimators, random_state and number of jobs.\n",
    "\n",
    "k number of features are the required number of features.\n",
    "\n",
    "In this case, since it is forward step method, forward is equal to True.\n",
    "\n",
    "For verbose it is for log here we are using 2.\n",
    "\n",
    "Cross validation set,here we are choosing as 4.\n",
    "\n",
    "Number of jobs means how many cores we will use, here -1 means use all the available core in this system."
   ]
  },
  {
   "cell_type": "code",
   "execution_count": 12,
   "id": "7d651951-421a-4745-9e91-b9b2e4499525",
   "metadata": {},
   "outputs": [
    {
     "name": "stderr",
     "output_type": "stream",
     "text": [
      "[Parallel(n_jobs=-1)]: Using backend LokyBackend with 8 concurrent workers.\n",
      "[Parallel(n_jobs=-1)]: Done   5 out of  13 | elapsed:    9.2s remaining:   14.7s\n",
      "[Parallel(n_jobs=-1)]: Done  13 out of  13 | elapsed:   11.4s finished\n",
      "\n",
      "[2025-03-30 02:19:29] Features: 1/7 -- score: 0.7674603174603174[Parallel(n_jobs=-1)]: Using backend LokyBackend with 8 concurrent workers.\n",
      "[Parallel(n_jobs=-1)]: Done   4 out of  12 | elapsed:    2.3s remaining:    4.7s\n",
      "[Parallel(n_jobs=-1)]: Done  12 out of  12 | elapsed:    3.9s finished\n",
      "\n",
      "[2025-03-30 02:19:33] Features: 2/7 -- score: 0.9577380952380952[Parallel(n_jobs=-1)]: Using backend LokyBackend with 8 concurrent workers.\n",
      "[Parallel(n_jobs=-1)]: Done   2 out of  11 | elapsed:    2.6s remaining:   12.1s\n",
      "[Parallel(n_jobs=-1)]: Done   8 out of  11 | elapsed:    2.7s remaining:    0.9s\n",
      "[Parallel(n_jobs=-1)]: Done  11 out of  11 | elapsed:    4.1s finished\n",
      "\n",
      "[2025-03-30 02:19:38] Features: 3/7 -- score: 0.9859126984126985[Parallel(n_jobs=-1)]: Using backend LokyBackend with 8 concurrent workers.\n",
      "[Parallel(n_jobs=-1)]: Done   7 out of  10 | elapsed:    2.8s remaining:    1.2s\n",
      "[Parallel(n_jobs=-1)]: Done  10 out of  10 | elapsed:    4.3s finished\n",
      "\n",
      "[2025-03-30 02:19:42] Features: 4/7 -- score: 0.9787698412698413[Parallel(n_jobs=-1)]: Using backend LokyBackend with 8 concurrent workers.\n",
      "[Parallel(n_jobs=-1)]: Done   4 out of   9 | elapsed:    3.9s remaining:    4.9s\n",
      "[Parallel(n_jobs=-1)]: Done   9 out of   9 | elapsed:    5.7s finished\n",
      "\n",
      "[2025-03-30 02:19:48] Features: 5/7 -- score: 0.9857142857142858[Parallel(n_jobs=-1)]: Using backend LokyBackend with 8 concurrent workers.\n",
      "[Parallel(n_jobs=-1)]: Done   3 out of   8 | elapsed:    2.7s remaining:    4.5s\n",
      "[Parallel(n_jobs=-1)]: Done   8 out of   8 | elapsed:    2.8s finished\n",
      "\n",
      "[2025-03-30 02:19:51] Features: 6/7 -- score: 0.9928571428571429[Parallel(n_jobs=-1)]: Using backend LokyBackend with 8 concurrent workers.\n",
      "[Parallel(n_jobs=-1)]: Done   4 out of   7 | elapsed:    2.4s remaining:    1.8s\n",
      "[Parallel(n_jobs=-1)]: Done   7 out of   7 | elapsed:    2.4s finished\n",
      "\n",
      "[2025-03-30 02:19:53] Features: 7/7 -- score: 0.9861111111111112"
     ]
    }
   ],
   "source": [
    "sfs = SFS(RandomForestClassifier(n_estimators=100, random_state=0, n_jobs = -1),\n",
    "         k_features = 7,\n",
    "          forward= True,\n",
    "          floating = False,\n",
    "          verbose= 2,\n",
    "          scoring= 'accuracy',\n",
    "          cv = 4,\n",
    "          n_jobs= -1\n",
    "         ).fit(X_train, y_train)"
   ]
  },
  {
   "cell_type": "code",
   "execution_count": 13,
   "id": "89863567-b64d-4053-975e-df3fc061dc41",
   "metadata": {},
   "outputs": [
    {
     "data": {
      "text/plain": [
       "('alcohol',\n",
       " 'magnesium',\n",
       " 'total_phenols',\n",
       " 'flavanoids',\n",
       " 'proanthocyanins',\n",
       " 'color_intensity',\n",
       " 'hue')"
      ]
     },
     "execution_count": 13,
     "metadata": {},
     "output_type": "execute_result"
    }
   ],
   "source": [
    "sfs.k_feature_names_"
   ]
  },
  {
   "cell_type": "code",
   "execution_count": 14,
   "id": "8fd9f5a2-55e2-4c25-83f6-a5ba5aaf3e10",
   "metadata": {},
   "outputs": [
    {
     "data": {
      "text/plain": [
       "(0, 4, 5, 6, 8, 9, 10)"
      ]
     },
     "execution_count": 14,
     "metadata": {},
     "output_type": "execute_result"
    }
   ],
   "source": [
    "sfs.k_feature_idx_"
   ]
  },
  {
   "cell_type": "code",
   "execution_count": 15,
   "id": "39a7bac0-62ee-4980-a5f8-63228f83ab14",
   "metadata": {},
   "outputs": [
    {
     "data": {
      "text/plain": [
       "np.float64(0.9861111111111112)"
      ]
     },
     "execution_count": 15,
     "metadata": {},
     "output_type": "execute_result"
    }
   ],
   "source": [
    "sfs.k_score_"
   ]
  },
  {
   "cell_type": "code",
   "execution_count": 16,
   "id": "40294689-2916-4d2d-b102-65028ba4874f",
   "metadata": {},
   "outputs": [
    {
     "data": {
      "text/html": [
       "<div>\n",
       "<style scoped>\n",
       "    .dataframe tbody tr th:only-of-type {\n",
       "        vertical-align: middle;\n",
       "    }\n",
       "\n",
       "    .dataframe tbody tr th {\n",
       "        vertical-align: top;\n",
       "    }\n",
       "\n",
       "    .dataframe thead th {\n",
       "        text-align: right;\n",
       "    }\n",
       "</style>\n",
       "<table border=\"1\" class=\"dataframe\">\n",
       "  <thead>\n",
       "    <tr style=\"text-align: right;\">\n",
       "      <th></th>\n",
       "      <th>feature_idx</th>\n",
       "      <th>cv_scores</th>\n",
       "      <th>avg_score</th>\n",
       "      <th>feature_names</th>\n",
       "      <th>ci_bound</th>\n",
       "      <th>std_dev</th>\n",
       "      <th>std_err</th>\n",
       "    </tr>\n",
       "  </thead>\n",
       "  <tbody>\n",
       "    <tr>\n",
       "      <th>1</th>\n",
       "      <td>(6,)</td>\n",
       "      <td>[0.7222222222222222, 0.8333333333333334, 0.742...</td>\n",
       "      <td>0.76746</td>\n",
       "      <td>(flavanoids,)</td>\n",
       "      <td>0.06709</td>\n",
       "      <td>0.041853</td>\n",
       "      <td>0.024164</td>\n",
       "    </tr>\n",
       "    <tr>\n",
       "      <th>2</th>\n",
       "      <td>(6, 9)</td>\n",
       "      <td>[0.9166666666666666, 1.0, 0.9714285714285714, ...</td>\n",
       "      <td>0.957738</td>\n",
       "      <td>(flavanoids, color_intensity)</td>\n",
       "      <td>0.049936</td>\n",
       "      <td>0.031152</td>\n",
       "      <td>0.017986</td>\n",
       "    </tr>\n",
       "    <tr>\n",
       "      <th>3</th>\n",
       "      <td>(4, 6, 9)</td>\n",
       "      <td>[0.9722222222222222, 1.0, 0.9714285714285714, ...</td>\n",
       "      <td>0.985913</td>\n",
       "      <td>(magnesium, flavanoids, color_intensity)</td>\n",
       "      <td>0.022586</td>\n",
       "      <td>0.01409</td>\n",
       "      <td>0.008135</td>\n",
       "    </tr>\n",
       "    <tr>\n",
       "      <th>4</th>\n",
       "      <td>(4, 5, 6, 9)</td>\n",
       "      <td>[0.9722222222222222, 1.0, 0.9714285714285714, ...</td>\n",
       "      <td>0.97877</td>\n",
       "      <td>(magnesium, total_phenols, flavanoids, color_i...</td>\n",
       "      <td>0.019655</td>\n",
       "      <td>0.012262</td>\n",
       "      <td>0.007079</td>\n",
       "    </tr>\n",
       "    <tr>\n",
       "      <th>5</th>\n",
       "      <td>(4, 5, 6, 8, 9)</td>\n",
       "      <td>[1.0, 1.0, 0.9714285714285714, 0.9714285714285...</td>\n",
       "      <td>0.985714</td>\n",
       "      <td>(magnesium, total_phenols, flavanoids, proanth...</td>\n",
       "      <td>0.0229</td>\n",
       "      <td>0.014286</td>\n",
       "      <td>0.008248</td>\n",
       "    </tr>\n",
       "    <tr>\n",
       "      <th>6</th>\n",
       "      <td>(0, 4, 5, 6, 8, 9)</td>\n",
       "      <td>[1.0, 1.0, 0.9714285714285714, 1.0]</td>\n",
       "      <td>0.992857</td>\n",
       "      <td>(alcohol, magnesium, total_phenols, flavanoids...</td>\n",
       "      <td>0.019832</td>\n",
       "      <td>0.012372</td>\n",
       "      <td>0.007143</td>\n",
       "    </tr>\n",
       "    <tr>\n",
       "      <th>7</th>\n",
       "      <td>(0, 4, 5, 6, 8, 9, 10)</td>\n",
       "      <td>[0.9444444444444444, 1.0, 1.0, 1.0]</td>\n",
       "      <td>0.986111</td>\n",
       "      <td>(alcohol, magnesium, total_phenols, flavanoids...</td>\n",
       "      <td>0.038562</td>\n",
       "      <td>0.024056</td>\n",
       "      <td>0.013889</td>\n",
       "    </tr>\n",
       "  </tbody>\n",
       "</table>\n",
       "</div>"
      ],
      "text/plain": [
       "              feature_idx                                          cv_scores  \\\n",
       "1                    (6,)  [0.7222222222222222, 0.8333333333333334, 0.742...   \n",
       "2                  (6, 9)  [0.9166666666666666, 1.0, 0.9714285714285714, ...   \n",
       "3               (4, 6, 9)  [0.9722222222222222, 1.0, 0.9714285714285714, ...   \n",
       "4            (4, 5, 6, 9)  [0.9722222222222222, 1.0, 0.9714285714285714, ...   \n",
       "5         (4, 5, 6, 8, 9)  [1.0, 1.0, 0.9714285714285714, 0.9714285714285...   \n",
       "6      (0, 4, 5, 6, 8, 9)                [1.0, 1.0, 0.9714285714285714, 1.0]   \n",
       "7  (0, 4, 5, 6, 8, 9, 10)                [0.9444444444444444, 1.0, 1.0, 1.0]   \n",
       "\n",
       "  avg_score                                      feature_names  ci_bound  \\\n",
       "1   0.76746                                      (flavanoids,)   0.06709   \n",
       "2  0.957738                      (flavanoids, color_intensity)  0.049936   \n",
       "3  0.985913           (magnesium, flavanoids, color_intensity)  0.022586   \n",
       "4   0.97877  (magnesium, total_phenols, flavanoids, color_i...  0.019655   \n",
       "5  0.985714  (magnesium, total_phenols, flavanoids, proanth...    0.0229   \n",
       "6  0.992857  (alcohol, magnesium, total_phenols, flavanoids...  0.019832   \n",
       "7  0.986111  (alcohol, magnesium, total_phenols, flavanoids...  0.038562   \n",
       "\n",
       "    std_dev   std_err  \n",
       "1  0.041853  0.024164  \n",
       "2  0.031152  0.017986  \n",
       "3   0.01409  0.008135  \n",
       "4  0.012262  0.007079  \n",
       "5  0.014286  0.008248  \n",
       "6  0.012372  0.007143  \n",
       "7  0.024056  0.013889  "
      ]
     },
     "execution_count": 16,
     "metadata": {},
     "output_type": "execute_result"
    }
   ],
   "source": [
    "pd.DataFrame.from_dict(sfs.get_metric_dict()).T"
   ]
  },
  {
   "cell_type": "code",
   "execution_count": 17,
   "id": "dfa0af45-c2e9-4479-9bb6-66271d6f91d5",
   "metadata": {},
   "outputs": [
    {
     "name": "stderr",
     "output_type": "stream",
     "text": [
      "[Parallel(n_jobs=-1)]: Using backend LokyBackend with 8 concurrent workers.\n",
      "[Parallel(n_jobs=-1)]: Done   5 out of  13 | elapsed:    2.6s remaining:    4.3s\n",
      "[Parallel(n_jobs=-1)]: Done  13 out of  13 | elapsed:    4.8s finished\n",
      "\n",
      "[2025-03-30 02:19:58] Features: 1/8 -- score: 0.7674603174603174[Parallel(n_jobs=-1)]: Using backend LokyBackend with 8 concurrent workers.\n",
      "[Parallel(n_jobs=-1)]: Done   4 out of  12 | elapsed:    2.3s remaining:    4.8s\n",
      "[Parallel(n_jobs=-1)]: Done  12 out of  12 | elapsed:    3.9s finished\n",
      "\n",
      "[2025-03-30 02:20:02] Features: 2/8 -- score: 0.9577380952380952[Parallel(n_jobs=-1)]: Using backend LokyBackend with 8 concurrent workers.\n",
      "[Parallel(n_jobs=-1)]: Done   2 out of  11 | elapsed:    3.7s remaining:   16.9s\n",
      "[Parallel(n_jobs=-1)]: Done   8 out of  11 | elapsed:    3.8s remaining:    1.4s\n",
      "[Parallel(n_jobs=-1)]: Done  11 out of  11 | elapsed:    5.6s finished\n",
      "\n",
      "[2025-03-30 02:20:08] Features: 3/8 -- score: 0.9859126984126985[Parallel(n_jobs=-1)]: Using backend LokyBackend with 8 concurrent workers.\n",
      "[Parallel(n_jobs=-1)]: Done   7 out of  10 | elapsed:    3.3s remaining:    1.4s\n",
      "[Parallel(n_jobs=-1)]: Done  10 out of  10 | elapsed:    4.8s finished\n",
      "\n",
      "[2025-03-30 02:20:13] Features: 4/8 -- score: 0.9787698412698413[Parallel(n_jobs=-1)]: Using backend LokyBackend with 8 concurrent workers.\n",
      "[Parallel(n_jobs=-1)]: Done   4 out of   9 | elapsed:    2.8s remaining:    3.5s\n",
      "[Parallel(n_jobs=-1)]: Done   9 out of   9 | elapsed:    4.1s finished\n",
      "\n",
      "[2025-03-30 02:20:17] Features: 5/8 -- score: 0.9857142857142858[Parallel(n_jobs=-1)]: Using backend LokyBackend with 8 concurrent workers.\n",
      "[Parallel(n_jobs=-1)]: Done   3 out of   8 | elapsed:    2.5s remaining:    4.3s\n",
      "[Parallel(n_jobs=-1)]: Done   8 out of   8 | elapsed:    2.6s finished\n",
      "\n",
      "[2025-03-30 02:20:20] Features: 6/8 -- score: 0.9928571428571429[Parallel(n_jobs=-1)]: Using backend LokyBackend with 8 concurrent workers.\n",
      "[Parallel(n_jobs=-1)]: Done   4 out of   7 | elapsed:    2.6s remaining:    1.9s\n",
      "[Parallel(n_jobs=-1)]: Done   7 out of   7 | elapsed:    2.7s finished\n",
      "\n",
      "[2025-03-30 02:20:23] Features: 7/8 -- score: 0.9861111111111112[Parallel(n_jobs=-1)]: Using backend LokyBackend with 8 concurrent workers.\n",
      "[Parallel(n_jobs=-1)]: Done   3 out of   6 | elapsed:    2.0s remaining:    2.0s\n",
      "[Parallel(n_jobs=-1)]: Done   6 out of   6 | elapsed:    2.1s finished\n",
      "\n",
      "[2025-03-30 02:20:25] Features: 8/8 -- score: 0.9859126984126985"
     ]
    }
   ],
   "source": [
    "sfs = SFS(RandomForestClassifier(n_estimators=100, random_state=0, n_jobs = -1),\n",
    "         k_features = (1, 8),\n",
    "          forward= True,\n",
    "          floating = False,\n",
    "          verbose= 2,\n",
    "          scoring= 'accuracy',\n",
    "          cv = 4,\n",
    "          n_jobs= -1\n",
    "         ).fit(X_train, y_train)"
   ]
  },
  {
   "cell_type": "code",
   "execution_count": 18,
   "id": "d9174ed9-e4e5-45da-b347-d187f186066d",
   "metadata": {},
   "outputs": [
    {
     "data": {
      "text/plain": [
       "np.float64(0.9928571428571429)"
      ]
     },
     "execution_count": 18,
     "metadata": {},
     "output_type": "execute_result"
    }
   ],
   "source": [
    "# Let's go ahead and see the accuracy with this 7 features\n",
    "\n",
    "sfs.k_score_"
   ]
  },
  {
   "cell_type": "code",
   "execution_count": 19,
   "id": "d4619e9f-e43c-421c-92db-ce7494f3f67c",
   "metadata": {},
   "outputs": [
    {
     "data": {
      "text/plain": [
       "('alcohol',\n",
       " 'magnesium',\n",
       " 'total_phenols',\n",
       " 'flavanoids',\n",
       " 'proanthocyanins',\n",
       " 'color_intensity')"
      ]
     },
     "execution_count": 19,
     "metadata": {},
     "output_type": "execute_result"
    }
   ],
   "source": [
    "# Now, we can see here selected feature from this algorithm\n",
    "\n",
    "sfs.k_feature_names_"
   ]
  },
  {
   "cell_type": "markdown",
   "id": "070952e9-e07c-49ba-82fa-d0ff057d26df",
   "metadata": {},
   "source": [
    "# Step Backward Selection (SBS)\n",
    "\n",
    "Let's go ahead work with the Step Backward Selection. Have a look at the following script.\r\n",
    "\r\n",
    "The only thing change here compared to Step Forward Selection, keep forward as False."
   ]
  },
  {
   "cell_type": "code",
   "execution_count": 20,
   "id": "f6b707a5-4dfb-4206-9723-8108d52f195c",
   "metadata": {},
   "outputs": [
    {
     "name": "stderr",
     "output_type": "stream",
     "text": [
      "[Parallel(n_jobs=-1)]: Using backend LokyBackend with 8 concurrent workers.\n",
      "[Parallel(n_jobs=-1)]: Done   5 out of  13 | elapsed:    2.5s remaining:    4.1s\n",
      "[Parallel(n_jobs=-1)]: Done  13 out of  13 | elapsed:    4.5s finished\n",
      "\n",
      "[2025-03-30 02:20:31] Features: 12/1 -- score: 0.9861111111111112[Parallel(n_jobs=-1)]: Using backend LokyBackend with 8 concurrent workers.\n",
      "[Parallel(n_jobs=-1)]: Done   4 out of  12 | elapsed:    2.8s remaining:    5.8s\n",
      "[Parallel(n_jobs=-1)]: Done  12 out of  12 | elapsed:    4.8s finished\n",
      "\n",
      "[2025-03-30 02:20:36] Features: 11/1 -- score: 0.9861111111111112[Parallel(n_jobs=-1)]: Using backend LokyBackend with 8 concurrent workers.\n",
      "[Parallel(n_jobs=-1)]: Done   2 out of  11 | elapsed:    2.8s remaining:   12.9s\n",
      "[Parallel(n_jobs=-1)]: Done   8 out of  11 | elapsed:    2.9s remaining:    1.0s\n",
      "[Parallel(n_jobs=-1)]: Done  11 out of  11 | elapsed:    4.4s finished\n",
      "\n",
      "[2025-03-30 02:20:41] Features: 10/1 -- score: 0.9791666666666666[Parallel(n_jobs=-1)]: Using backend LokyBackend with 8 concurrent workers.\n",
      "[Parallel(n_jobs=-1)]: Done   7 out of  10 | elapsed:    3.1s remaining:    1.3s\n",
      "[Parallel(n_jobs=-1)]: Done  10 out of  10 | elapsed:    4.7s finished\n",
      "\n",
      "[2025-03-30 02:20:45] Features: 9/1 -- score: 0.9861111111111112[Parallel(n_jobs=-1)]: Using backend LokyBackend with 8 concurrent workers.\n",
      "[Parallel(n_jobs=-1)]: Done   4 out of   9 | elapsed:    2.5s remaining:    3.2s\n",
      "[Parallel(n_jobs=-1)]: Done   9 out of   9 | elapsed:    4.1s finished\n",
      "\n",
      "[2025-03-30 02:20:50] Features: 8/1 -- score: 0.9859126984126985[Parallel(n_jobs=-1)]: Using backend LokyBackend with 8 concurrent workers.\n",
      "[Parallel(n_jobs=-1)]: Done   3 out of   8 | elapsed:    2.5s remaining:    4.2s\n",
      "[Parallel(n_jobs=-1)]: Done   8 out of   8 | elapsed:    2.5s finished\n",
      "\n",
      "[2025-03-30 02:20:52] Features: 7/1 -- score: 0.978968253968254[Parallel(n_jobs=-1)]: Using backend LokyBackend with 8 concurrent workers.\n",
      "[Parallel(n_jobs=-1)]: Done   4 out of   7 | elapsed:    2.5s remaining:    1.9s\n",
      "[Parallel(n_jobs=-1)]: Done   7 out of   7 | elapsed:    2.6s finished\n",
      "\n",
      "[2025-03-30 02:20:55] Features: 6/1 -- score: 0.9859126984126985[Parallel(n_jobs=-1)]: Using backend LokyBackend with 8 concurrent workers.\n",
      "[Parallel(n_jobs=-1)]: Done   3 out of   6 | elapsed:    2.2s remaining:    2.2s\n",
      "[Parallel(n_jobs=-1)]: Done   6 out of   6 | elapsed:    2.2s finished\n",
      "\n",
      "[2025-03-30 02:20:57] Features: 5/1 -- score: 0.9789682539682539[Parallel(n_jobs=-1)]: Using backend LokyBackend with 8 concurrent workers.\n",
      "[Parallel(n_jobs=-1)]: Done   2 out of   5 | elapsed:    1.9s remaining:    2.9s\n",
      "[Parallel(n_jobs=-1)]: Done   5 out of   5 | elapsed:    1.9s finished\n",
      "\n",
      "[2025-03-30 02:20:59] Features: 4/1 -- score: 0.9718253968253968[Parallel(n_jobs=-1)]: Using backend LokyBackend with 8 concurrent workers.\n",
      "[Parallel(n_jobs=-1)]: Done   4 out of   4 | elapsed:    2.3s finished\n",
      "\n",
      "[2025-03-30 02:21:02] Features: 3/1 -- score: 0.9648809523809524[Parallel(n_jobs=-1)]: Using backend LokyBackend with 8 concurrent workers.\n",
      "[Parallel(n_jobs=-1)]: Done   3 out of   3 | elapsed:    1.6s finished\n",
      "\n",
      "[2025-03-30 02:21:03] Features: 2/1 -- score: 0.9577380952380952[Parallel(n_jobs=-1)]: Using backend LokyBackend with 8 concurrent workers.\n",
      "[Parallel(n_jobs=-1)]: Done   2 out of   2 | elapsed:    1.4s finished\n",
      "\n",
      "[2025-03-30 02:21:05] Features: 1/1 -- score: 0.7674603174603174"
     ]
    }
   ],
   "source": [
    "sfs = SFS(RandomForestClassifier(n_estimators=100, random_state=0, n_jobs = -1),\n",
    "         k_features = (1, 8),\n",
    "          forward= False,\n",
    "          floating = False,\n",
    "          verbose= 2,\n",
    "          scoring= 'accuracy',\n",
    "          cv = 4,\n",
    "          n_jobs= -1\n",
    "         ).fit(X_train, y_train)"
   ]
  },
  {
   "cell_type": "code",
   "execution_count": 21,
   "id": "787f3127-9d07-497e-9c24-1889c5059df7",
   "metadata": {},
   "outputs": [
    {
     "data": {
      "text/plain": [
       "np.float64(0.9859126984126985)"
      ]
     },
     "execution_count": 21,
     "metadata": {},
     "output_type": "execute_result"
    }
   ],
   "source": [
    "sbs = sfs\n",
    "sbs.k_score_"
   ]
  },
  {
   "cell_type": "code",
   "execution_count": 22,
   "id": "5f377e94-c33a-4f0b-863a-2448f3707069",
   "metadata": {},
   "outputs": [
    {
     "data": {
      "text/plain": [
       "('alcohol',\n",
       " 'malic_acid',\n",
       " 'ash',\n",
       " 'alcalinity_of_ash',\n",
       " 'magnesium',\n",
       " 'flavanoids',\n",
       " 'nonflavanoid_phenols',\n",
       " 'color_intensity')"
      ]
     },
     "execution_count": 22,
     "metadata": {},
     "output_type": "execute_result"
    }
   ],
   "source": [
    "#Let's get the selected features.\n",
    "\n",
    "sbs.k_feature_names_"
   ]
  },
  {
   "cell_type": "markdown",
   "id": "93a78e5f-62d3-4f1c-a95d-7a70afc843ba",
   "metadata": {},
   "source": [
    "# Exhaustive Feature Selection (EFS)\n",
    "\n",
    "Let's go ahead and learn about the Exhaustive Feature Selection(EFS)."
   ]
  },
  {
   "cell_type": "code",
   "execution_count": 2,
   "id": "74c330c4-5cd4-4814-b1a5-6bc36523cdeb",
   "metadata": {},
   "outputs": [],
   "source": [
    "from mlxtend.feature_selection import ExhaustiveFeatureSelector as EFS"
   ]
  },
  {
   "cell_type": "code",
   "execution_count": null,
   "id": "beafcbd5-894d-4ed4-b3cf-ae13dba99a33",
   "metadata": {},
   "outputs": [],
   "source": [
    "#It will start with the subset of minimum features to maximum subset of features.\n",
    "\n",
    "efs = EFS(RandomForestClassifier(n_estimators=100, random_state=0, n_jobs=-1),\n",
    "         min_features= 4,\n",
    "          max_features= 5,\n",
    "          scoring='accuracy',\n",
    "          cv = None,\n",
    "          n_jobs=-1\n",
    "         ).fit(X_train, y_train)"
   ]
  },
  {
   "cell_type": "code",
   "execution_count": 29,
   "id": "42d5c583-19a9-47db-8e48-c65840abd1b5",
   "metadata": {},
   "outputs": [
    {
     "data": {
      "text/plain": [
       "2002"
      ]
     },
     "execution_count": 29,
     "metadata": {},
     "output_type": "execute_result"
    }
   ],
   "source": [
    "# So, while training with exauhstive feature selection with minimum subset of 4 and 5 it has trained for 2002 subsets.\n",
    "#C(13, 4) + C(13, 5) = 715 + 1287\n",
    "\n",
    "715 + 1287"
   ]
  },
  {
   "cell_type": "code",
   "execution_count": null,
   "id": "a879e243-ec6b-4d08-acce-59ed9f780d9e",
   "metadata": {},
   "outputs": [],
   "source": [
    "# Let's find out best accuracy for EFS algorithm with the following code.\n",
    "\n",
    "efs.best_score_"
   ]
  },
  {
   "cell_type": "code",
   "execution_count": null,
   "id": "aa2ceaa2-7445-4aed-b69d-2b8cb353234e",
   "metadata": {},
   "outputs": [],
   "source": [
    "# Now get the selected features for the best score.\n",
    "\n",
    "efs.best_feature_names_"
   ]
  },
  {
   "cell_type": "code",
   "execution_count": null,
   "id": "52e5a433-31b5-407d-b7b5-ab9d93d75fb3",
   "metadata": {},
   "outputs": [],
   "source": [
    "rom mlxtend.plotting import plot_sequential_feature_selection as plot_sfs"
   ]
  },
  {
   "cell_type": "code",
   "execution_count": null,
   "id": "883b3b8d-b7a3-45c3-84e1-4f83598c35ae",
   "metadata": {},
   "outputs": [],
   "source": [
    "#Now, try to plot the graph of the performance with changing number of features.\n",
    "\n",
    "plot_sfs(efs.get_metric_dict(), kind='std_dev')\n",
    "plt.title('Performance of the EFS algorithm with changing number of features')\n",
    "plt.show()"
   ]
  },
  {
   "cell_type": "code",
   "execution_count": null,
   "id": "e85efc8c-634b-4d48-bf4c-98d1f48fe288",
   "metadata": {},
   "outputs": [],
   "source": []
  },
  {
   "cell_type": "code",
   "execution_count": null,
   "id": "76be4ba3-6eb0-4b6d-9521-eb43a787aa7f",
   "metadata": {},
   "outputs": [],
   "source": []
  }
 ],
 "metadata": {
  "kernelspec": {
   "display_name": "Python 3 (ipykernel)",
   "language": "python",
   "name": "python3"
  },
  "language_info": {
   "codemirror_mode": {
    "name": "ipython",
    "version": 3
   },
   "file_extension": ".py",
   "mimetype": "text/x-python",
   "name": "python",
   "nbconvert_exporter": "python",
   "pygments_lexer": "ipython3",
   "version": "3.12.7"
  },
  "widgets": {
   "application/vnd.jupyter.widget-state+json": {
    "state": {},
    "version_major": 2,
    "version_minor": 0
   }
  }
 },
 "nbformat": 4,
 "nbformat_minor": 5
}
