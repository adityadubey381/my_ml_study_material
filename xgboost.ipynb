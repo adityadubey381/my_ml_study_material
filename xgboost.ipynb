{
 "cells": [
  {
   "cell_type": "code",
   "execution_count": 2,
   "id": "84658f6f-5bea-4c09-be45-f3d3d31ef2f8",
   "metadata": {},
   "outputs": [],
   "source": [
    "import pandas as pd\n",
    "import matplotlib.pyplot as plt"
   ]
  },
  {
   "cell_type": "code",
   "execution_count": 4,
   "id": "44a6d3e2-caae-44e1-a653-7cfa6cb12da5",
   "metadata": {},
   "outputs": [],
   "source": [
    "df= pd.DataFrame({'Age':[24,32,41,29], 'Salary':[21,120,90,80]})"
   ]
  },
  {
   "cell_type": "code",
   "execution_count": 5,
   "id": "f8dde2e6-d561-449f-a186-db1a452c126d",
   "metadata": {},
   "outputs": [
    {
     "data": {
      "text/html": [
       "<div>\n",
       "<style scoped>\n",
       "    .dataframe tbody tr th:only-of-type {\n",
       "        vertical-align: middle;\n",
       "    }\n",
       "\n",
       "    .dataframe tbody tr th {\n",
       "        vertical-align: top;\n",
       "    }\n",
       "\n",
       "    .dataframe thead th {\n",
       "        text-align: right;\n",
       "    }\n",
       "</style>\n",
       "<table border=\"1\" class=\"dataframe\">\n",
       "  <thead>\n",
       "    <tr style=\"text-align: right;\">\n",
       "      <th></th>\n",
       "      <th>Age</th>\n",
       "      <th>Salary</th>\n",
       "    </tr>\n",
       "  </thead>\n",
       "  <tbody>\n",
       "    <tr>\n",
       "      <th>0</th>\n",
       "      <td>24</td>\n",
       "      <td>21</td>\n",
       "    </tr>\n",
       "    <tr>\n",
       "      <th>1</th>\n",
       "      <td>32</td>\n",
       "      <td>120</td>\n",
       "    </tr>\n",
       "    <tr>\n",
       "      <th>2</th>\n",
       "      <td>41</td>\n",
       "      <td>90</td>\n",
       "    </tr>\n",
       "    <tr>\n",
       "      <th>3</th>\n",
       "      <td>29</td>\n",
       "      <td>80</td>\n",
       "    </tr>\n",
       "  </tbody>\n",
       "</table>\n",
       "</div>"
      ],
      "text/plain": [
       "   Age  Salary\n",
       "0   24      21\n",
       "1   32     120\n",
       "2   41      90\n",
       "3   29      80"
      ]
     },
     "execution_count": 5,
     "metadata": {},
     "output_type": "execute_result"
    }
   ],
   "source": [
    "df"
   ]
  },
  {
   "cell_type": "code",
   "execution_count": 6,
   "id": "68ac2a7d-d1e4-46ad-837e-5a2559c84552",
   "metadata": {},
   "outputs": [
    {
     "data": {
      "text/plain": [
       "<matplotlib.collections.PathCollection at 0x1708737f860>"
      ]
     },
     "execution_count": 6,
     "metadata": {},
     "output_type": "execute_result"
    },
    {
     "data": {
      "image/png": "[encoded data removed]",
      "text/plain": [
       "<Figure size 640x480 with 1 Axes>"
      ]
     },
     "metadata": {},
     "output_type": "display_data"
    }
   ],
   "source": [
    "plt.scatter('Age','Salary', data = df)"
   ]
  },
  {
   "cell_type": "code",
   "execution_count": 7,
   "id": "627eed33-818f-477a-abe8-9faee1bfaacd",
   "metadata": {},
   "outputs": [
    {
     "data": {
      "text/plain": [
       "np.float64(77.75)"
      ]
     },
     "execution_count": 7,
     "metadata": {},
     "output_type": "execute_result"
    }
   ],
   "source": [
    "df['Salary'].mean()"
   ]
  },
  {
   "cell_type": "code",
   "execution_count": 8,
   "id": "b8128bc9-a92c-49e2-b0d7-4bfdcf6b41cd",
   "metadata": {},
   "outputs": [],
   "source": [
    "df['p0'] = df['Salary'].mean()"
   ]
  },
  {
   "cell_type": "code",
   "execution_count": 9,
   "id": "f36f6087-1927-4871-809e-7668b2a6f8f0",
   "metadata": {},
   "outputs": [
    {
     "data": {
      "text/html": [
       "<div>\n",
       "<style scoped>\n",
       "    .dataframe tbody tr th:only-of-type {\n",
       "        vertical-align: middle;\n",
       "    }\n",
       "\n",
       "    .dataframe tbody tr th {\n",
       "        vertical-align: top;\n",
       "    }\n",
       "\n",
       "    .dataframe thead th {\n",
       "        text-align: right;\n",
       "    }\n",
       "</style>\n",
       "<table border=\"1\" class=\"dataframe\">\n",
       "  <thead>\n",
       "    <tr style=\"text-align: right;\">\n",
       "      <th></th>\n",
       "      <th>Age</th>\n",
       "      <th>Salary</th>\n",
       "      <th>p0</th>\n",
       "    </tr>\n",
       "  </thead>\n",
       "  <tbody>\n",
       "    <tr>\n",
       "      <th>0</th>\n",
       "      <td>24</td>\n",
       "      <td>21</td>\n",
       "      <td>77.75</td>\n",
       "    </tr>\n",
       "    <tr>\n",
       "      <th>1</th>\n",
       "      <td>32</td>\n",
       "      <td>120</td>\n",
       "      <td>77.75</td>\n",
       "    </tr>\n",
       "    <tr>\n",
       "      <th>2</th>\n",
       "      <td>41</td>\n",
       "      <td>90</td>\n",
       "      <td>77.75</td>\n",
       "    </tr>\n",
       "    <tr>\n",
       "      <th>3</th>\n",
       "      <td>29</td>\n",
       "      <td>80</td>\n",
       "      <td>77.75</td>\n",
       "    </tr>\n",
       "  </tbody>\n",
       "</table>\n",
       "</div>"
      ],
      "text/plain": [
       "   Age  Salary     p0\n",
       "0   24      21  77.75\n",
       "1   32     120  77.75\n",
       "2   41      90  77.75\n",
       "3   29      80  77.75"
      ]
     },
     "execution_count": 9,
     "metadata": {},
     "output_type": "execute_result"
    }
   ],
   "source": [
    "df"
   ]
  },
  {
   "cell_type": "code",
   "execution_count": 10,
   "id": "84c08230-ef3d-4027-914d-026b661a5c83",
   "metadata": {},
   "outputs": [],
   "source": [
    "df['res0'] = df['Salary']- df['p0']"
   ]
  },
  {
   "cell_type": "code",
   "execution_count": 11,
   "id": "d36ea8ed-d952-4fcc-95b4-7632e2d3e32b",
   "metadata": {},
   "outputs": [
    {
     "data": {
      "text/html": [
       "<div>\n",
       "<style scoped>\n",
       "    .dataframe tbody tr th:only-of-type {\n",
       "        vertical-align: middle;\n",
       "    }\n",
       "\n",
       "    .dataframe tbody tr th {\n",
       "        vertical-align: top;\n",
       "    }\n",
       "\n",
       "    .dataframe thead th {\n",
       "        text-align: right;\n",
       "    }\n",
       "</style>\n",
       "<table border=\"1\" class=\"dataframe\">\n",
       "  <thead>\n",
       "    <tr style=\"text-align: right;\">\n",
       "      <th></th>\n",
       "      <th>Age</th>\n",
       "      <th>Salary</th>\n",
       "      <th>p0</th>\n",
       "      <th>res0</th>\n",
       "    </tr>\n",
       "  </thead>\n",
       "  <tbody>\n",
       "    <tr>\n",
       "      <th>0</th>\n",
       "      <td>24</td>\n",
       "      <td>21</td>\n",
       "      <td>77.75</td>\n",
       "      <td>-56.75</td>\n",
       "    </tr>\n",
       "    <tr>\n",
       "      <th>1</th>\n",
       "      <td>32</td>\n",
       "      <td>120</td>\n",
       "      <td>77.75</td>\n",
       "      <td>42.25</td>\n",
       "    </tr>\n",
       "    <tr>\n",
       "      <th>2</th>\n",
       "      <td>41</td>\n",
       "      <td>90</td>\n",
       "      <td>77.75</td>\n",
       "      <td>12.25</td>\n",
       "    </tr>\n",
       "    <tr>\n",
       "      <th>3</th>\n",
       "      <td>29</td>\n",
       "      <td>80</td>\n",
       "      <td>77.75</td>\n",
       "      <td>2.25</td>\n",
       "    </tr>\n",
       "  </tbody>\n",
       "</table>\n",
       "</div>"
      ],
      "text/plain": [
       "   Age  Salary     p0   res0\n",
       "0   24      21  77.75 -56.75\n",
       "1   32     120  77.75  42.25\n",
       "2   41      90  77.75  12.25\n",
       "3   29      80  77.75   2.25"
      ]
     },
     "execution_count": 11,
     "metadata": {},
     "output_type": "execute_result"
    }
   ],
   "source": [
    "df"
   ]
  },
  {
   "cell_type": "code",
   "execution_count": 12,
   "id": "a1c93680-b767-4cb6-ae1f-458e56c61527",
   "metadata": {},
   "outputs": [
    {
     "data": {
      "text/plain": [
       "np.float64(0.0)"
      ]
     },
     "execution_count": 12,
     "metadata": {},
     "output_type": "execute_result"
    }
   ],
   "source": [
    "df['res0'].sum()"
   ]
  },
  {
   "cell_type": "code",
   "execution_count": 21,
   "id": "eba4458d-29cd-4859-913f-5b3fbcba4420",
   "metadata": {},
   "outputs": [],
   "source": [
    "from sklearn.datasets import fetch_california_housing\n",
    "data = fetch_california_housing()\n",
    "import numpy as np\n"
   ]
  },
  {
   "cell_type": "code",
   "execution_count": 30,
   "id": "a0c87c41-bb3d-4569-8122-afd650870c31",
   "metadata": {},
   "outputs": [],
   "source": [
    "df=pd.DataFrame(data.data,columns = data.feature_names)"
   ]
  },
  {
   "cell_type": "code",
   "execution_count": 31,
   "id": "f08bf9a6-1cc5-4dc3-b13d-df5750486123",
   "metadata": {},
   "outputs": [],
   "source": [
    "df['target'] = data['target']"
   ]
  },
  {
   "cell_type": "code",
   "execution_count": 45,
   "id": "f28fe275-6047-4cc4-9374-57ecbab789b6",
   "metadata": {},
   "outputs": [],
   "source": [
    "from sklearn.model_selection import train_test_split\n",
    "X_train,X_test,y_train,y_test = train_test_split(df.iloc[:,0:8],df.iloc[:,-1],test_size = 0.2) "
   ]
  },
  {
   "cell_type": "code",
   "execution_count": 32,
   "id": "69711290-53b8-442f-b81e-593bd078367e",
   "metadata": {},
   "outputs": [
    {
     "data": {
      "text/html": [
       "<div>\n",
       "<style scoped>\n",
       "    .dataframe tbody tr th:only-of-type {\n",
       "        vertical-align: middle;\n",
       "    }\n",
       "\n",
       "    .dataframe tbody tr th {\n",
       "        vertical-align: top;\n",
       "    }\n",
       "\n",
       "    .dataframe thead th {\n",
       "        text-align: right;\n",
       "    }\n",
       "</style>\n",
       "<table border=\"1\" class=\"dataframe\">\n",
       "  <thead>\n",
       "    <tr style=\"text-align: right;\">\n",
       "      <th></th>\n",
       "      <th>MedInc</th>\n",
       "      <th>HouseAge</th>\n",
       "      <th>AveRooms</th>\n",
       "      <th>AveBedrms</th>\n",
       "      <th>Population</th>\n",
       "      <th>AveOccup</th>\n",
       "      <th>Latitude</th>\n",
       "      <th>Longitude</th>\n",
       "      <th>target</th>\n",
       "    </tr>\n",
       "  </thead>\n",
       "  <tbody>\n",
       "    <tr>\n",
       "      <th>0</th>\n",
       "      <td>8.3252</td>\n",
       "      <td>41.0</td>\n",
       "      <td>6.984127</td>\n",
       "      <td>1.023810</td>\n",
       "      <td>322.0</td>\n",
       "      <td>2.555556</td>\n",
       "      <td>37.88</td>\n",
       "      <td>-122.23</td>\n",
       "      <td>4.526</td>\n",
       "    </tr>\n",
       "    <tr>\n",
       "      <th>1</th>\n",
       "      <td>8.3014</td>\n",
       "      <td>21.0</td>\n",
       "      <td>6.238137</td>\n",
       "      <td>0.971880</td>\n",
       "      <td>2401.0</td>\n",
       "      <td>2.109842</td>\n",
       "      <td>37.86</td>\n",
       "      <td>-122.22</td>\n",
       "      <td>3.585</td>\n",
       "    </tr>\n",
       "    <tr>\n",
       "      <th>2</th>\n",
       "      <td>7.2574</td>\n",
       "      <td>52.0</td>\n",
       "      <td>8.288136</td>\n",
       "      <td>1.073446</td>\n",
       "      <td>496.0</td>\n",
       "      <td>2.802260</td>\n",
       "      <td>37.85</td>\n",
       "      <td>-122.24</td>\n",
       "      <td>3.521</td>\n",
       "    </tr>\n",
       "    <tr>\n",
       "      <th>3</th>\n",
       "      <td>5.6431</td>\n",
       "      <td>52.0</td>\n",
       "      <td>5.817352</td>\n",
       "      <td>1.073059</td>\n",
       "      <td>558.0</td>\n",
       "      <td>2.547945</td>\n",
       "      <td>37.85</td>\n",
       "      <td>-122.25</td>\n",
       "      <td>3.413</td>\n",
       "    </tr>\n",
       "    <tr>\n",
       "      <th>4</th>\n",
       "      <td>3.8462</td>\n",
       "      <td>52.0</td>\n",
       "      <td>6.281853</td>\n",
       "      <td>1.081081</td>\n",
       "      <td>565.0</td>\n",
       "      <td>2.181467</td>\n",
       "      <td>37.85</td>\n",
       "      <td>-122.25</td>\n",
       "      <td>3.422</td>\n",
       "    </tr>\n",
       "    <tr>\n",
       "      <th>...</th>\n",
       "      <td>...</td>\n",
       "      <td>...</td>\n",
       "      <td>...</td>\n",
       "      <td>...</td>\n",
       "      <td>...</td>\n",
       "      <td>...</td>\n",
       "      <td>...</td>\n",
       "      <td>...</td>\n",
       "      <td>...</td>\n",
       "    </tr>\n",
       "    <tr>\n",
       "      <th>20635</th>\n",
       "      <td>1.5603</td>\n",
       "      <td>25.0</td>\n",
       "      <td>5.045455</td>\n",
       "      <td>1.133333</td>\n",
       "      <td>845.0</td>\n",
       "      <td>2.560606</td>\n",
       "      <td>39.48</td>\n",
       "      <td>-121.09</td>\n",
       "      <td>0.781</td>\n",
       "    </tr>\n",
       "    <tr>\n",
       "      <th>20636</th>\n",
       "      <td>2.5568</td>\n",
       "      <td>18.0</td>\n",
       "      <td>6.114035</td>\n",
       "      <td>1.315789</td>\n",
       "      <td>356.0</td>\n",
       "      <td>3.122807</td>\n",
       "      <td>39.49</td>\n",
       "      <td>-121.21</td>\n",
       "      <td>0.771</td>\n",
       "    </tr>\n",
       "    <tr>\n",
       "      <th>20637</th>\n",
       "      <td>1.7000</td>\n",
       "      <td>17.0</td>\n",
       "      <td>5.205543</td>\n",
       "      <td>1.120092</td>\n",
       "      <td>1007.0</td>\n",
       "      <td>2.325635</td>\n",
       "      <td>39.43</td>\n",
       "      <td>-121.22</td>\n",
       "      <td>0.923</td>\n",
       "    </tr>\n",
       "    <tr>\n",
       "      <th>20638</th>\n",
       "      <td>1.8672</td>\n",
       "      <td>18.0</td>\n",
       "      <td>5.329513</td>\n",
       "      <td>1.171920</td>\n",
       "      <td>741.0</td>\n",
       "      <td>2.123209</td>\n",
       "      <td>39.43</td>\n",
       "      <td>-121.32</td>\n",
       "      <td>0.847</td>\n",
       "    </tr>\n",
       "    <tr>\n",
       "      <th>20639</th>\n",
       "      <td>2.3886</td>\n",
       "      <td>16.0</td>\n",
       "      <td>5.254717</td>\n",
       "      <td>1.162264</td>\n",
       "      <td>1387.0</td>\n",
       "      <td>2.616981</td>\n",
       "      <td>39.37</td>\n",
       "      <td>-121.24</td>\n",
       "      <td>0.894</td>\n",
       "    </tr>\n",
       "  </tbody>\n",
       "</table>\n",
       "<p>20640 rows × 9 columns</p>\n",
       "</div>"
      ],
      "text/plain": [
       "       MedInc  HouseAge  AveRooms  AveBedrms  Population  AveOccup  Latitude  \\\n",
       "0      8.3252      41.0  6.984127   1.023810       322.0  2.555556     37.88   \n",
       "1      8.3014      21.0  6.238137   0.971880      2401.0  2.109842     37.86   \n",
       "2      7.2574      52.0  8.288136   1.073446       496.0  2.802260     37.85   \n",
       "3      5.6431      52.0  5.817352   1.073059       558.0  2.547945     37.85   \n",
       "4      3.8462      52.0  6.281853   1.081081       565.0  2.181467     37.85   \n",
       "...       ...       ...       ...        ...         ...       ...       ...   \n",
       "20635  1.5603      25.0  5.045455   1.133333       845.0  2.560606     39.48   \n",
       "20636  2.5568      18.0  6.114035   1.315789       356.0  3.122807     39.49   \n",
       "20637  1.7000      17.0  5.205543   1.120092      1007.0  2.325635     39.43   \n",
       "20638  1.8672      18.0  5.329513   1.171920       741.0  2.123209     39.43   \n",
       "20639  2.3886      16.0  5.254717   1.162264      1387.0  2.616981     39.37   \n",
       "\n",
       "       Longitude  target  \n",
       "0        -122.23   4.526  \n",
       "1        -122.22   3.585  \n",
       "2        -122.24   3.521  \n",
       "3        -122.25   3.413  \n",
       "4        -122.25   3.422  \n",
       "...          ...     ...  \n",
       "20635    -121.09   0.781  \n",
       "20636    -121.21   0.771  \n",
       "20637    -121.22   0.923  \n",
       "20638    -121.32   0.847  \n",
       "20639    -121.24   0.894  \n",
       "\n",
       "[20640 rows x 9 columns]"
      ]
     },
     "execution_count": 32,
     "metadata": {},
     "output_type": "execute_result"
    }
   ],
   "source": [
    "df"
   ]
  },
  {
   "cell_type": "code",
   "execution_count": 33,
   "id": "3157afb1-c1de-4068-9050-2a45503bce6d",
   "metadata": {},
   "outputs": [
    {
     "name": "stdout",
     "output_type": "stream",
     "text": [
      "Collecting xgboost\n",
      "  Downloading xgboost-2.1.4-py3-none-win_amd64.whl.metadata (2.1 kB)\n",
      "Requirement already satisfied: numpy in c:\\users\\aditya kumar dubey\\anaconda3\\envs\\dubey\\lib\\site-packages (from xgboost) (2.1.2)\n",
      "Requirement already satisfied: scipy in c:\\users\\aditya kumar dubey\\anaconda3\\envs\\dubey\\lib\\site-packages (from xgboost) (1.15.1)\n",
      "Downloading xgboost-2.1.4-py3-none-win_amd64.whl (124.9 MB)\n",
      "   ---------------------------------------- 0.0/124.9 MB ? eta -:--:--\n",
      "   ---------------------------------------- 0.8/124.9 MB 5.6 MB/s eta 0:00:23\n",
      "    --------------------------------------- 1.8/124.9 MB 5.6 MB/s eta 0:00:22\n",
      "   - -------------------------------------- 3.1/124.9 MB 5.8 MB/s eta 0:00:22\n",
      "   - -------------------------------------- 4.5/124.9 MB 6.0 MB/s eta 0:00:21\n",
      "   - -------------------------------------- 5.8/124.9 MB 5.8 MB/s eta 0:00:21\n",
      "   -- ------------------------------------- 7.1/124.9 MB 5.8 MB/s eta 0:00:21\n",
      "   -- ------------------------------------- 8.1/124.9 MB 5.9 MB/s eta 0:00:20\n",
      "   --- ------------------------------------ 9.7/124.9 MB 6.0 MB/s eta 0:00:20\n",
      "   --- ------------------------------------ 11.3/124.9 MB 6.1 MB/s eta 0:00:19\n",
      "   ---- ----------------------------------- 12.6/124.9 MB 6.1 MB/s eta 0:00:19\n",
      "   ---- ----------------------------------- 13.9/124.9 MB 6.1 MB/s eta 0:00:19\n",
      "   ---- ----------------------------------- 15.5/124.9 MB 6.2 MB/s eta 0:00:18\n",
      "   ----- ---------------------------------- 16.8/124.9 MB 6.3 MB/s eta 0:00:18\n",
      "   ----- ---------------------------------- 18.4/124.9 MB 6.3 MB/s eta 0:00:17\n",
      "   ------ --------------------------------- 19.9/124.9 MB 6.3 MB/s eta 0:00:17\n",
      "   ------ --------------------------------- 21.2/124.9 MB 6.3 MB/s eta 0:00:17\n",
      "   ------- -------------------------------- 22.5/124.9 MB 6.4 MB/s eta 0:00:17\n",
      "   ------- -------------------------------- 24.1/124.9 MB 6.4 MB/s eta 0:00:16\n",
      "   -------- ------------------------------- 25.4/124.9 MB 6.4 MB/s eta 0:00:16\n",
      "   -------- ------------------------------- 27.0/124.9 MB 6.4 MB/s eta 0:00:16\n",
      "   --------- ------------------------------ 28.3/124.9 MB 6.4 MB/s eta 0:00:16\n",
      "   --------- ------------------------------ 29.6/124.9 MB 6.4 MB/s eta 0:00:15\n",
      "   --------- ------------------------------ 30.9/124.9 MB 6.4 MB/s eta 0:00:15\n",
      "   ---------- ----------------------------- 32.2/124.9 MB 6.4 MB/s eta 0:00:15\n",
      "   ---------- ----------------------------- 33.8/124.9 MB 6.4 MB/s eta 0:00:15\n",
      "   ----------- ---------------------------- 35.1/124.9 MB 6.4 MB/s eta 0:00:14\n",
      "   ----------- ---------------------------- 36.4/124.9 MB 6.4 MB/s eta 0:00:14\n",
      "   ------------ --------------------------- 38.0/124.9 MB 6.5 MB/s eta 0:00:14\n",
      "   ------------ --------------------------- 39.6/124.9 MB 6.5 MB/s eta 0:00:14\n",
      "   ------------- -------------------------- 40.9/124.9 MB 6.5 MB/s eta 0:00:13\n",
      "   ------------- -------------------------- 42.5/124.9 MB 6.5 MB/s eta 0:00:13\n",
      "   -------------- ------------------------- 44.0/124.9 MB 6.5 MB/s eta 0:00:13\n",
      "   -------------- ------------------------- 45.6/124.9 MB 6.6 MB/s eta 0:00:13\n",
      "   --------------- ------------------------ 46.9/124.9 MB 6.6 MB/s eta 0:00:12\n",
      "   --------------- ------------------------ 48.5/124.9 MB 6.6 MB/s eta 0:00:12\n",
      "   --------------- ------------------------ 49.8/124.9 MB 6.6 MB/s eta 0:00:12\n",
      "   ---------------- ----------------------- 51.4/124.9 MB 6.6 MB/s eta 0:00:12\n",
      "   ---------------- ----------------------- 52.7/124.9 MB 6.6 MB/s eta 0:00:11\n",
      "   ----------------- ---------------------- 54.3/124.9 MB 6.6 MB/s eta 0:00:11\n",
      "   ----------------- ---------------------- 55.8/124.9 MB 6.6 MB/s eta 0:00:11\n",
      "   ------------------ --------------------- 57.1/124.9 MB 6.6 MB/s eta 0:00:11\n",
      "   ------------------ --------------------- 58.7/124.9 MB 6.6 MB/s eta 0:00:11\n",
      "   ------------------- -------------------- 60.0/124.9 MB 6.6 MB/s eta 0:00:10\n",
      "   ------------------- -------------------- 61.6/124.9 MB 6.6 MB/s eta 0:00:10\n",
      "   -------------------- ------------------- 63.2/124.9 MB 6.6 MB/s eta 0:00:10\n",
      "   -------------------- ------------------- 64.5/124.9 MB 6.6 MB/s eta 0:00:10\n",
      "   --------------------- ------------------ 66.1/124.9 MB 6.6 MB/s eta 0:00:09\n",
      "   --------------------- ------------------ 67.4/124.9 MB 6.6 MB/s eta 0:00:09\n",
      "   ---------------------- ----------------- 68.9/124.9 MB 6.6 MB/s eta 0:00:09\n",
      "   ---------------------- ----------------- 70.3/124.9 MB 6.6 MB/s eta 0:00:09\n",
      "   ---------------------- ----------------- 71.6/124.9 MB 6.6 MB/s eta 0:00:09\n",
      "   ----------------------- ---------------- 72.9/124.9 MB 6.6 MB/s eta 0:00:08\n",
      "   ----------------------- ---------------- 74.4/124.9 MB 6.6 MB/s eta 0:00:08\n",
      "   ------------------------ --------------- 75.8/124.9 MB 6.6 MB/s eta 0:00:08\n",
      "   ------------------------ --------------- 77.3/124.9 MB 6.6 MB/s eta 0:00:08\n",
      "   ------------------------- -------------- 78.6/124.9 MB 6.6 MB/s eta 0:00:07\n",
      "   ------------------------- -------------- 80.0/124.9 MB 6.6 MB/s eta 0:00:07\n",
      "   -------------------------- ------------- 81.5/124.9 MB 6.6 MB/s eta 0:00:07\n",
      "   -------------------------- ------------- 83.1/124.9 MB 6.6 MB/s eta 0:00:07\n",
      "   -------------------------- ------------- 84.1/124.9 MB 6.6 MB/s eta 0:00:07\n",
      "   --------------------------- ------------ 85.2/124.9 MB 6.6 MB/s eta 0:00:07\n",
      "   --------------------------- ------------ 86.8/124.9 MB 6.6 MB/s eta 0:00:06\n",
      "   ---------------------------- ----------- 88.3/124.9 MB 6.6 MB/s eta 0:00:06\n",
      "   ---------------------------- ----------- 89.9/124.9 MB 6.6 MB/s eta 0:00:06\n",
      "   ----------------------------- ---------- 91.2/124.9 MB 6.6 MB/s eta 0:00:06\n",
      "   ----------------------------- ---------- 92.5/124.9 MB 6.6 MB/s eta 0:00:05\n",
      "   ------------------------------ --------- 93.8/124.9 MB 6.6 MB/s eta 0:00:05\n",
      "   ------------------------------ --------- 95.4/124.9 MB 6.6 MB/s eta 0:00:05\n",
      "   ------------------------------- -------- 97.0/124.9 MB 6.6 MB/s eta 0:00:05\n",
      "   ------------------------------- -------- 98.3/124.9 MB 6.6 MB/s eta 0:00:05\n",
      "   ------------------------------- -------- 99.9/124.9 MB 6.6 MB/s eta 0:00:04\n",
      "   -------------------------------- ------- 101.2/124.9 MB 6.6 MB/s eta 0:00:04\n",
      "   -------------------------------- ------- 102.8/124.9 MB 6.6 MB/s eta 0:00:04\n",
      "   --------------------------------- ------ 104.1/124.9 MB 6.6 MB/s eta 0:00:04\n",
      "   --------------------------------- ------ 105.6/124.9 MB 6.6 MB/s eta 0:00:03\n",
      "   ---------------------------------- ----- 107.2/124.9 MB 6.6 MB/s eta 0:00:03\n",
      "   ---------------------------------- ----- 108.8/124.9 MB 6.6 MB/s eta 0:00:03\n",
      "   ----------------------------------- ---- 110.1/124.9 MB 6.7 MB/s eta 0:00:03\n",
      "   ----------------------------------- ---- 111.7/124.9 MB 6.6 MB/s eta 0:00:02\n",
      "   ------------------------------------ --- 113.0/124.9 MB 6.6 MB/s eta 0:00:02\n",
      "   ------------------------------------ --- 114.3/124.9 MB 6.6 MB/s eta 0:00:02\n",
      "   ------------------------------------- -- 115.6/124.9 MB 6.6 MB/s eta 0:00:02\n",
      "   ------------------------------------- -- 117.2/124.9 MB 6.6 MB/s eta 0:00:02\n",
      "   ------------------------------------- -- 118.5/124.9 MB 6.6 MB/s eta 0:00:01\n",
      "   -------------------------------------- - 119.8/124.9 MB 6.6 MB/s eta 0:00:01\n",
      "   -------------------------------------- - 121.4/124.9 MB 6.6 MB/s eta 0:00:01\n",
      "   ---------------------------------------  122.7/124.9 MB 6.6 MB/s eta 0:00:01\n",
      "   ---------------------------------------  124.3/124.9 MB 6.6 MB/s eta 0:00:01\n",
      "   ---------------------------------------  124.8/124.9 MB 6.7 MB/s eta 0:00:01\n",
      "   ---------------------------------------  124.8/124.9 MB 6.7 MB/s eta 0:00:01\n",
      "   ---------------------------------------  124.8/124.9 MB 6.7 MB/s eta 0:00:01\n",
      "   ---------------------------------------- 124.9/124.9 MB 6.4 MB/s eta 0:00:00\n",
      "Installing collected packages: xgboost\n",
      "Successfully installed xgboost-2.1.4\n"
     ]
    }
   ],
   "source": [
    "!pip install xgboost"
   ]
  },
  {
   "cell_type": "code",
   "execution_count": 35,
   "id": "06fc28f5-4627-4892-a88d-1ccd97448570",
   "metadata": {},
   "outputs": [],
   "source": [
    "from xgboost import XGBRegressor\n",
    "from sklearn.ensemble import RandomForestRegressor\n",
    "from sklearn.ensemble import GradientBoostingRegressor"
   ]
  },
  {
   "cell_type": "code",
   "execution_count": 36,
   "id": "8957914c-3a36-46a2-903c-f878257929f5",
   "metadata": {},
   "outputs": [],
   "source": [
    "xgb = XGBRegressor()\n",
    "gb = GradientBoostingRegressor()\n",
    "rf = RandomForestRegressor()"
   ]
  },
  {
   "cell_type": "code",
   "execution_count": 47,
   "id": "a29bccca-e6c4-4e05-9b78-6d06be4c6e00",
   "metadata": {},
   "outputs": [],
   "source": [
    "from sklearn.model_selection import cross_val_score"
   ]
  },
  {
   "cell_type": "code",
   "execution_count": 48,
   "id": "733b15d4-c73f-4b34-af1c-070f3426aef8",
   "metadata": {},
   "outputs": [
    {
     "name": "stdout",
     "output_type": "stream",
     "text": [
      "XGBoost : 0.8329910595778909\n",
      "Gradeient Boost : 0.7867086571212206\n",
      "Random Forest : 0.8081220172867527\n"
     ]
    }
   ],
   "source": [
    "print(\"XGBoost :\", np.mean(cross_val_score(xgb,X_train,y_train, cv=10)))\n",
    "print(\"Gradeient Boost :\", np.mean(cross_val_score(gb,X_train,y_train, cv=10)))\n",
    "print(\"Random Forest :\", np.mean(cross_val_score(rf,X_train,y_train, cv=10)))"
   ]
  },
  {
   "cell_type": "code",
   "execution_count": 52,
   "id": "ea6394d6-181b-4a68-ac33-d072921b5911",
   "metadata": {},
   "outputs": [],
   "source": [
    "xgbb = XGBRegressor(eta = 0.3, gamma = 50, reg_lambda = 10)\n",
    "gbb = GradientBoostingRegressor()\n",
    "rft = RandomForestRegressor()"
   ]
  },
  {
   "cell_type": "code",
   "execution_count": 53,
   "id": "44e05c61-54b2-4284-a7bb-9298d3ed9550",
   "metadata": {},
   "outputs": [
    {
     "name": "stdout",
     "output_type": "stream",
     "text": [
      "XGBoost : 0.8329910595778909\n",
      "Gradeient Boost : 0.7866482772491032\n",
      "Random Forest : 0.8067846817395852\n"
     ]
    }
   ],
   "source": [
    "print(\"XGBoost :\", np.mean(cross_val_score(xgb,X_train,y_train, cv=10)))\n",
    "print(\"Gradeient Boost :\", np.mean(cross_val_score(gb,X_train,y_train, cv=10)))\n",
    "print(\"Random Forest :\", np.mean(cross_val_score(rf,X_train,y_train, cv=10)))"
   ]
  },
  {
   "cell_type": "code",
   "execution_count": null,
   "id": "fa1130dd-6f31-426e-9e64-8739e086423a",
   "metadata": {},
   "outputs": [],
   "source": []
  }
 ],
 "metadata": {
  "kernelspec": {
   "display_name": "Python 3 (ipykernel)",
   "language": "python",
   "name": "python3"
  },
  "language_info": {
   "codemirror_mode": {
    "name": "ipython",
    "version": 3
   },
   "file_extension": ".py",
   "mimetype": "text/x-python",
   "name": "python",
   "nbconvert_exporter": "python",
   "pygments_lexer": "ipython3",
   "version": "3.12.7"
  },
  "widgets": {
   "application/vnd.jupyter.widget-state+json": {
    "state": {},
    "version_major": 2,
    "version_minor": 0
   }
  }
 },
 "nbformat": 4,
 "nbformat_minor": 5
}
